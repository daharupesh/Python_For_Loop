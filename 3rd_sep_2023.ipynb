{
  "nbformat": 4,
  "nbformat_minor": 0,
  "metadata": {
    "colab": {
      "provenance": []
    },
    "kernelspec": {
      "name": "python3",
      "display_name": "Python 3"
    },
    "language_info": {
      "name": "python"
    }
  },
  "cells": [
    {
      "cell_type": "markdown",
      "source": [
        "**Control Flow**"
      ],
      "metadata": {
        "id": "i7ENpZuAROgH"
      }
    },
    {
      "cell_type": "markdown",
      "source": [
        "Assignment Questions"
      ],
      "metadata": {
        "id": "_yXCE7pjRXCj"
      }
    },
    {
      "cell_type": "markdown",
      "source": [
        "Basic If-Else Statements."
      ],
      "metadata": {
        "id": "QAIOgFn6RbgG"
      }
    },
    {
      "cell_type": "markdown",
      "source": [
        "1.Write a Python program to check if a geven number is positive or negative."
      ],
      "metadata": {
        "id": "WXM3W7owRg2f"
      }
    },
    {
      "cell_type": "code",
      "execution_count": null,
      "metadata": {
        "id": "AlrrjoKYQ2xe",
        "colab": {
          "base_uri": "https://localhost:8080/"
        },
        "outputId": "6e9a0aca-3a44-4458-c21c-0fb139e7dd74"
      },
      "outputs": [
        {
          "output_type": "stream",
          "name": "stdout",
          "text": [
            "Enter the number: 0\n",
            " the given number 0 is neither positive or negative\n"
          ]
        }
      ],
      "source": [
        "number = int(input(\"Enter the number: \"))\n",
        "if number<0:\n",
        "  print(f\"the given number {number } is negative\")\n",
        "elif(number>0):\n",
        "  print(f\"The geven number {number} is positive\")\n",
        "else:\n",
        "  print(f\" the given number {number} is neither positive or negative\")"
      ]
    },
    {
      "cell_type": "markdown",
      "source": [
        "2.Create a program that determines if a person is eligible to vote based on their age."
      ],
      "metadata": {
        "id": "is6PJI1xRoBr"
      }
    },
    {
      "cell_type": "code",
      "source": [
        "age = int(input(\"Enter your age: \"))\n",
        "\n",
        "voting_age = 18\n",
        "if age >= voting_age:\n",
        "    print(\"You are eligible to vote!\")\n",
        "else:\n",
        "    print(\"Sorry, you are not eligible to vote.\")\n"
      ],
      "metadata": {
        "id": "RofZ3x5lRu-H",
        "colab": {
          "base_uri": "https://localhost:8080/"
        },
        "outputId": "a8816cf6-5572-48dd-c3b8-f5fc44d5bb17"
      },
      "execution_count": null,
      "outputs": [
        {
          "output_type": "stream",
          "name": "stdout",
          "text": [
            "Enter your age: 34\n",
            "You are eligible to vote!\n"
          ]
        }
      ]
    },
    {
      "cell_type": "markdown",
      "source": [
        "3.Develop a program to find the maximum of two numbers using if-else statements."
      ],
      "metadata": {
        "id": "D7xQxraaRwK6"
      }
    },
    {
      "cell_type": "code",
      "source": [
        "# Input the two numbers\n",
        "num1 = int(input(\"Enter the first number: \"))\n",
        "num2 = int(input(\"Enter the second number: \"))\n",
        "# Compare the two numbers and find the maximum\n",
        "if num1 > num2:\n",
        "    max_num = num1\n",
        "else:\n",
        "    max_num = num2\n",
        "# Print the maximum number\n",
        "print(\"The maximum of\", num1, \"and\", num2, \"is\", max_num)\n"
      ],
      "metadata": {
        "id": "ireay68bRy0m",
        "colab": {
          "base_uri": "https://localhost:8080/"
        },
        "outputId": "033dfbe5-9cd0-43a8-d5c4-9ec4cad99825"
      },
      "execution_count": null,
      "outputs": [
        {
          "output_type": "stream",
          "name": "stdout",
          "text": [
            "Enter the first number: 23\n",
            "Enter the second number: 34\n",
            "The maximum of 23 and 34 is 34\n"
          ]
        }
      ]
    },
    {
      "cell_type": "markdown",
      "source": [
        "4.Write a Python script to classify a given year as a leap year or not."
      ],
      "metadata": {
        "id": "kybjfjrjRzI0"
      }
    },
    {
      "cell_type": "code",
      "source": [
        "# Input the year\n",
        "year = int(input(\"Enter a year: \"))\n",
        "\n",
        "# Check if it's a leap year\n",
        "if (year % 4 == 0 and year % 100 != 0) or (year % 400 == 0):\n",
        "    print(year, \"is a leap year.\")\n",
        "else:\n",
        "    print(year, \"is not a leap year.\")\n"
      ],
      "metadata": {
        "id": "BZXW30CGR59q",
        "colab": {
          "base_uri": "https://localhost:8080/"
        },
        "outputId": "e84d5e63-1259-4724-dec3-c07dd60042ef"
      },
      "execution_count": null,
      "outputs": [
        {
          "output_type": "stream",
          "name": "stdout",
          "text": [
            "Enter a year: 2034\n",
            "2034 is not a leap year.\n"
          ]
        }
      ]
    },
    {
      "cell_type": "markdown",
      "source": [
        "5.Create a program that checks whether a character is a vowel or a consonant."
      ],
      "metadata": {
        "id": "7CIwpqnVR6WE"
      }
    },
    {
      "cell_type": "code",
      "source": [
        "# Input a character\n",
        "char = input(\"Enter a character: \")\n",
        "char = char.lower()\n",
        "if char in ('a', 'e', 'i', 'o', 'u'):\n",
        "    print(char, \"is a vowel.\")\n",
        "elif char.isalpha():\n",
        "    print(char, \"is a consonant.\")\n",
        "else:\n",
        "    print(\"Invalid input. Please enter a valid letter.\")\n"
      ],
      "metadata": {
        "id": "6WwaCXQnSECS",
        "colab": {
          "base_uri": "https://localhost:8080/"
        },
        "outputId": "811cbc31-faaa-435a-af7e-a1f1ae1586d4"
      },
      "execution_count": null,
      "outputs": [
        {
          "output_type": "stream",
          "name": "stdout",
          "text": [
            "Enter a character: u\n",
            "u is a vowel.\n"
          ]
        }
      ]
    },
    {
      "cell_type": "markdown",
      "source": [
        "6.Implement a program to determine whether a given number is even or odd."
      ],
      "metadata": {
        "id": "xqhf4GiJSEdH"
      }
    },
    {
      "cell_type": "code",
      "source": [
        "# Input a number\n",
        "number = int(input(\"Enter a number: \"))\n",
        "# Check if the number is even or odd\n",
        "if number % 2 == 0:\n",
        "    print(number, \"is even.\")\n",
        "else:\n",
        "    print(number, \"is odd.\")\n"
      ],
      "metadata": {
        "id": "Z2FNGuniSWV-",
        "colab": {
          "base_uri": "https://localhost:8080/"
        },
        "outputId": "3bd88088-7928-4421-f460-9e17ad59c2ab"
      },
      "execution_count": null,
      "outputs": [
        {
          "output_type": "stream",
          "name": "stdout",
          "text": [
            "Enter a number: 45\n",
            "45 is odd.\n"
          ]
        }
      ]
    },
    {
      "cell_type": "markdown",
      "source": [
        "7.Write a Python function to calculate the absolute value of a number without using the `abs()` function."
      ],
      "metadata": {
        "id": "i3NRJOCgSW0k"
      }
    },
    {
      "cell_type": "code",
      "source": [
        "#user input number\n",
        "number = int(input(\"Enter the number input\"))\n",
        "\n",
        "#condition to check if number is positve and negative , if positive no need to change otherwise convert negative number into postive.\n",
        "if number<0:\n",
        "  abs = -(number)\n",
        "  print(f\"The absolute value of a number '{number}' is equalt to '{abs}'\")\n",
        "else:\n",
        "  abs= number\n",
        "  print(f\"The absolute value of a number '{number}' is equalt to '{abs}'\")"
      ],
      "metadata": {
        "id": "CAg0JuGQSa5c",
        "colab": {
          "base_uri": "https://localhost:8080/"
        },
        "outputId": "7721768f-0b8f-4ee0-8eb4-3a784c9b699c"
      },
      "execution_count": null,
      "outputs": [
        {
          "output_type": "stream",
          "name": "stdout",
          "text": [
            "Enter the number input-8\n",
            "The absolute value of a number '-8' is equalt to '8'\n"
          ]
        }
      ]
    },
    {
      "cell_type": "markdown",
      "source": [
        "8.Develop a program that determines the largest of three given numbers using if-else statements."
      ],
      "metadata": {
        "id": "gMRCu0mMSbQl"
      }
    },
    {
      "cell_type": "code",
      "source": [
        "# user input\n",
        "num1=int(input(\"Enter num1: \"))\n",
        "num2=int(input(\"Enter num2: \"))\n",
        "num3=int(input(\"Enter num3: \"))\n",
        "\n",
        "#logic to detemine largest number\n",
        "if(num1>num2 and num1>num3):\n",
        "  print(f\"the largest number is '{num1}'\")\n",
        "elif(num2>num1 and num2>num3):\n",
        "  print(f\"the largest number is '{num2}'\")\n",
        "else:\n",
        "  print(f\"the largest number is '{num3}'\")"
      ],
      "metadata": {
        "id": "PzUnRB7BSfac",
        "colab": {
          "base_uri": "https://localhost:8080/"
        },
        "outputId": "29404ac9-b7b4-4201-e569-468b868125fb"
      },
      "execution_count": null,
      "outputs": [
        {
          "output_type": "stream",
          "name": "stdout",
          "text": [
            "Enter num1: 45\n",
            "Enter num2: 50\n",
            "Enter num3: 55\n",
            "the largest number is '55'\n"
          ]
        }
      ]
    },
    {
      "cell_type": "markdown",
      "source": [
        "9.Create a program that checks if a given string is a palindrome."
      ],
      "metadata": {
        "id": "3jaXMepjSgD9"
      }
    },
    {
      "cell_type": "code",
      "source": [
        "#input string\n",
        "str_input = input(\"Enter the string : \")\n",
        "\n",
        "#logic to find the palindrome string\n",
        "if str_input==str_input[::-1]:\n",
        "  print(f\"the given string '{str_input}' is palindrome.\")\n",
        "else:\n",
        "  print(f\"the given string '{str_input}' is not palindrome.\")"
      ],
      "metadata": {
        "id": "HBKJANsVSjei",
        "colab": {
          "base_uri": "https://localhost:8080/"
        },
        "outputId": "e842d619-35dd-4e8a-fa39-16b783e6a5eb"
      },
      "execution_count": null,
      "outputs": [
        {
          "output_type": "stream",
          "name": "stdout",
          "text": [
            "Enter the string : abba\n",
            "the given string 'abba' is palindrome.\n"
          ]
        }
      ]
    },
    {
      "cell_type": "markdown",
      "source": [
        "10.Write a Python program to calculate the grade based on a student's score"
      ],
      "metadata": {
        "id": "vjf6xNuPSj8w"
      }
    },
    {
      "cell_type": "code",
      "source": [
        "#user input score\n",
        "score = float(input(\"Enter the student's score: \"))\n",
        "\n",
        "if 90 <= score <= 100:\n",
        "    print(\"Grade: A\")\n",
        "elif 80 <= score < 90:\n",
        "    print(\"Grade: B\")\n",
        "elif 70 <= score < 80:\n",
        "    print(\"Grade: C\")\n",
        "elif 60 <= score < 70:\n",
        "    print(\"Grade: D\")\n",
        "elif 0 <= score < 60:\n",
        "    print(\"Grade: F\")\n",
        "else:\n",
        "    print(\"Invalid input. Score must be between 0 and 100.\")\n"
      ],
      "metadata": {
        "id": "LeAJrSCqSnWc",
        "colab": {
          "base_uri": "https://localhost:8080/"
        },
        "outputId": "09d73e56-d105-4988-badd-e6015bfae993"
      },
      "execution_count": null,
      "outputs": [
        {
          "output_type": "stream",
          "name": "stdout",
          "text": [
            "Enter the student's score: 90.9\n",
            "Grade: A\n"
          ]
        }
      ]
    },
    {
      "cell_type": "markdown",
      "source": [
        "**Nasted If -Else Statements:**"
      ],
      "metadata": {
        "id": "0UVw1bDpSnzN"
      }
    },
    {
      "cell_type": "markdown",
      "source": [
        "11.Write a program to find the largest among three numbers using nested if-else statements."
      ],
      "metadata": {
        "id": "_9EEiXIHSuNA"
      }
    },
    {
      "cell_type": "code",
      "source": [
        "# user input\n",
        "num1=int(input(\"Enter num1: \"))\n",
        "num2=int(input(\"Enter num2: \"))\n",
        "num3=int(input(\"Enter num3: \"))\n",
        "\n",
        "#logic to detemine largest number\n",
        "if(num1>num2):\n",
        "  if(num1>num3):\n",
        "     print(f\"The largest number  is '{num1}'\")\n",
        "  else:\n",
        "     print(f\"the largest number is '{num3}'\")\n",
        "else:\n",
        "  if(num2>num3):\n",
        "    print(f\"The largest number is '{num2}'\")\n",
        "  else:\n",
        "    print(f\"the largest number is '{num3}'\")"
      ],
      "metadata": {
        "id": "1GQ58-o9SyDO",
        "colab": {
          "base_uri": "https://localhost:8080/"
        },
        "outputId": "6ca5d2ce-e509-4969-cf2d-b7a8b317b8d2"
      },
      "execution_count": null,
      "outputs": [
        {
          "output_type": "stream",
          "name": "stdout",
          "text": [
            "Enter num1: 90\n",
            "Enter num2: 12\n",
            "Enter num3: 18\n",
            "The largest number  is '90'\n"
          ]
        }
      ]
    },
    {
      "cell_type": "markdown",
      "source": [
        "12.Implement a program to determine if a triangle is equilateral, isosceles, or scalene"
      ],
      "metadata": {
        "id": "ZnaGTsvSSycD"
      }
    },
    {
      "cell_type": "code",
      "source": [
        "# Triangle is 3 side polygon\n",
        "#Three side input from the user...\n",
        "side1 = int(input(\"Enter the side 1: \"))\n",
        "side2 = int(input(\"Enter the side 2: \"))\n",
        "side3 = int(input(\"Enter the side 3: \"))\n",
        "\n",
        "#logic to check the different types of triangle and determine the output.\n",
        "if side1 == side2 == side3:\n",
        "    print(\"The Triangle is equilateral.\")\n",
        "else:\n",
        "    if side1 == side2 or side2 == side3 or side1 == side3:\n",
        "        print(\"The Triangle is isosceles triangle.\")\n",
        "    else:\n",
        "        print(\"The Triangle is scalene triangle\")\n"
      ],
      "metadata": {
        "id": "AybsV4_7S2jk",
        "colab": {
          "base_uri": "https://localhost:8080/"
        },
        "outputId": "b4afa464-c905-4966-963a-e2644fb4a320"
      },
      "execution_count": null,
      "outputs": [
        {
          "output_type": "stream",
          "name": "stdout",
          "text": [
            "Enter the side 1:4\n",
            "Enter the side 2:5\n",
            "Enter the side 3:6\n",
            "The Triangle is scalene triangle\n"
          ]
        }
      ]
    },
    {
      "cell_type": "markdown",
      "source": [
        "13.Develop a program that checks if a year is a leap year and also if it is a century year."
      ],
      "metadata": {
        "id": "0pn4hc5GS3Eq"
      }
    },
    {
      "cell_type": "code",
      "source": [
        "#user input year\n",
        "\n",
        "year=int(input(\"Enter the year:\"))\n",
        "\n",
        "\n",
        "#complete logic to find the given year is leep or not\n",
        "if 0<year<100:\n",
        "  if(year%4==0):\n",
        "    print(f\"the year '{year}' is leap year but not Century year.\")\n",
        "  else:\n",
        "    print(f\"The year '{year}' is neither  leap year nor century year.\")\n",
        "elif(year>=100):\n",
        "  if(year%100 ==0):\n",
        "    if(year%400==0):\n",
        "      print(f\"The year '{year}' is leap year.And also Century year.\")\n",
        "    else:\n",
        "      print(f\"The year '{year}' is not leap year.But Century year.\")\n",
        "  else:\n",
        "    if(year%4==0):\n",
        "      print(f\"The year '{year}' is leap year.And But not Century year.\")\n",
        "    else:\n",
        "      print(f\"The year '{year}' is neither  leap year nor century year. .\")\n",
        "else:\n",
        "  print(f\"the entered year '{year}' is invalid.\")"
      ],
      "metadata": {
        "id": "g7C5klSzS6m6",
        "colab": {
          "base_uri": "https://localhost:8080/"
        },
        "outputId": "694e8fca-98cb-4306-eb66-7dc01511d938"
      },
      "execution_count": null,
      "outputs": [
        {
          "output_type": "stream",
          "name": "stdout",
          "text": [
            "Enter the year:2400\n",
            "The year '2400' is leap year.And also Century year.\n"
          ]
        }
      ]
    },
    {
      "cell_type": "markdown",
      "source": [],
      "metadata": {
        "id": "DWeEVt_2gmKn"
      }
    },
    {
      "cell_type": "markdown",
      "source": [
        "14.Write a Python script to determine if a number is positive, negative, or zero."
      ],
      "metadata": {
        "id": "qNJAuZ7YS7EW"
      }
    },
    {
      "cell_type": "code",
      "source": [
        "#user input\n",
        "number = int(input(\"Enter the number: \"))\n",
        "\n",
        "#logic to determin the positve , negative or zero number...\n",
        "if number>=0:\n",
        "  if number>0:\n",
        "    print(f\"The number '{number}' is positive.\")\n",
        "  else:\n",
        "    print(f\"The number '{number}' is Zero.\")\n",
        "else:\n",
        "  print(f\"The number '{number}' is negative.\")"
      ],
      "metadata": {
        "id": "MLLB0ngsS_sI",
        "colab": {
          "base_uri": "https://localhost:8080/"
        },
        "outputId": "6155e77a-19cb-4451-e900-14cc3e3aa4a1"
      },
      "execution_count": null,
      "outputs": [
        {
          "output_type": "stream",
          "name": "stdout",
          "text": [
            "Enter the number: -9\n",
            "The number '-9' is negative.\n"
          ]
        }
      ]
    },
    {
      "cell_type": "markdown",
      "source": [
        "15.Create a program to check if a person is a teenager (between 13 and 19 years old)."
      ],
      "metadata": {
        "id": "28YeAtkHTABI"
      }
    },
    {
      "cell_type": "code",
      "source": [
        "#user input age\n",
        "age = int(input(\"Enter the age: \"))\n",
        "if age>0:\n",
        "  if 13 <= age <=19:\n",
        "    print(f\"the person is a teenager.\")\n",
        "  else:\n",
        "    print(f\"the person is not in the category of teanger.\")\n",
        "else:\n",
        "  print(f\"invalid input!!!\")"
      ],
      "metadata": {
        "id": "-nBwtrdHTDxH",
        "colab": {
          "base_uri": "https://localhost:8080/"
        },
        "outputId": "7f1895cb-e46b-42e7-abde-39660dc81352"
      },
      "execution_count": null,
      "outputs": [
        {
          "output_type": "stream",
          "name": "stdout",
          "text": [
            "Enter the age: 23\n",
            "the person is not in the category of teanger.\n"
          ]
        }
      ]
    },
    {
      "cell_type": "markdown",
      "source": [
        "16.Develop a program that determines the type of angle based on its measure (acute, obtuse, or right)."
      ],
      "metadata": {
        "id": "q3_3iopxTEKR"
      }
    },
    {
      "cell_type": "code",
      "source": [
        "angle_input = int(input(\"Enter angle: \"))\n",
        "if angle_input < 90 and angle_input>0 :\n",
        "  print(\"Acute Angle.\")\n",
        "elif(angle==90):\n",
        "  print(\"Right Angle.\")\n",
        "elif(angle>90 and angle < 180):\n",
        "  print(\"Obtuse Angle.\")\n",
        "\n"
      ],
      "metadata": {
        "id": "fM5EBznDTH9W",
        "colab": {
          "base_uri": "https://localhost:8080/"
        },
        "outputId": "85889bb3-e432-4fea-bdbf-7c069b8df319"
      },
      "execution_count": null,
      "outputs": [
        {
          "output_type": "stream",
          "name": "stdout",
          "text": [
            "Enter angle: 79\n",
            "Acute Angle.\n"
          ]
        }
      ]
    },
    {
      "cell_type": "markdown",
      "source": [
        "17.Write a Python program to calculate the roots of a quadratic equation."
      ],
      "metadata": {
        "id": "06wMn7f8TIXg"
      }
    },
    {
      "cell_type": "code",
      "source": [
        "import math\n",
        "a = float(input(\"Enter coefficient a: \"))\n",
        "b = float(input(\"Enter coefficient b: \"))\n",
        "c = float(input(\"Enter coefficient c: \"))\n",
        "\n",
        "discriminant = b**2 - 4*a*c\n",
        "\n",
        "if discriminant > 0:\n",
        "    root1 = (-b + math.sqrt(discriminant)) / (2*a)\n",
        "    root2 = (-b - math.sqrt(discriminant)) / (2*a)\n",
        "    print(f\"Roots are real and distinct: x1 = {root1}, x2 = {root2}\")\n",
        "elif discriminant == 0:\n",
        "    root1 = -b / (2*a)\n",
        "    print(f\"Root is real and repeated: x = {root1}\")\n",
        "else:\n",
        "    real_part = -b / (2*a)\n",
        "    imaginary_part = math.sqrt(abs(discriminant)) / (2*a)\n",
        "    print(f\"Roots are complex: x1 = {real_part} + {imaginary_part}i, x2 = {real_part} - {imaginary_part}i\")\n"
      ],
      "metadata": {
        "id": "Fttmnd3cTL54",
        "colab": {
          "base_uri": "https://localhost:8080/"
        },
        "outputId": "0824b227-47d3-4d48-d3d3-74eba238e943"
      },
      "execution_count": null,
      "outputs": [
        {
          "output_type": "stream",
          "name": "stdout",
          "text": [
            "Enter coefficient a: 1\n",
            "Enter coefficient b: 2\n",
            "Enter coefficient c: 3\n",
            "Roots are complex: x1 = -1.0 + 1.4142135623730951i, x2 = -1.0 - 1.4142135623730951i\n"
          ]
        }
      ]
    },
    {
      "cell_type": "markdown",
      "source": [
        "18.Implement a program to determine the day of the week based on a user-provided number (1 for Monday, 2\n",
        "for Tuesday, etc.)."
      ],
      "metadata": {
        "id": "KDU8A6rkTMQm"
      }
    },
    {
      "cell_type": "code",
      "source": [
        "number = int(input(\"Enter the number: \"))\n",
        "if number ==1:\n",
        "  print(\"Monday\")\n",
        "elif number == 2:\n",
        "  print(\"Tuesday\")\n",
        "elif number ==3:\n",
        "  print(\"Wednesday\")\n",
        "elif number==4:\n",
        "  print(\"Thursday\")\n",
        "elif number==5:\n",
        "  print(\"Friday\")\n",
        "elif number==6:\n",
        "  print(\"Saturday\")\n",
        "elif number ==7:\n",
        "  print(\"Sunday\")\n",
        "else:\n",
        "  print(\"Invalid input\")\n"
      ],
      "metadata": {
        "id": "3-4W0vgITP1b",
        "colab": {
          "base_uri": "https://localhost:8080/"
        },
        "outputId": "fc1465a2-f06c-45ca-857e-fd1c872cf0fa"
      },
      "execution_count": null,
      "outputs": [
        {
          "output_type": "stream",
          "name": "stdout",
          "text": [
            "Enter the number: 6\n",
            "Saturday\n"
          ]
        }
      ]
    },
    {
      "cell_type": "markdown",
      "source": [
        "19.Create a program that determines if a year is a leap year and also if it is evenly divisible by 400"
      ],
      "metadata": {
        "id": "D6IcrPxcTQOS"
      }
    },
    {
      "cell_type": "code",
      "source": [
        "year = int(input(\"Enter a year: \"))\n",
        "\n",
        "divisible_by_4 = year % 4 == 0\n",
        "divisible_by_100 = year % 100 == 0\n",
        "divisible_by_400 = year % 400 == 0\n",
        "is_leap_year = divisible_by_4 and (not divisible_by_100 or divisible_by_400)\n",
        "\n",
        "if is_leap_year:\n",
        "    print(f\"{year} is a leap year and evenly divisible by 400.\")\n",
        "else:\n",
        "    print(f\"{year} is not a leap year or not evenly divisible by 400.\")\n"
      ],
      "metadata": {
        "id": "j9AeJeKzTUkj",
        "colab": {
          "base_uri": "https://localhost:8080/"
        },
        "outputId": "777a5a1d-b538-482a-f81c-5ea85eb90295"
      },
      "execution_count": null,
      "outputs": [
        {
          "output_type": "stream",
          "name": "stdout",
          "text": [
            "Enter a year: 400\n",
            "400 is a leap year and evenly divisible by 400.\n"
          ]
        }
      ]
    },
    {
      "cell_type": "markdown",
      "source": [
        "20.Develop a program that checks if a given number is prime or not using nested if-else statements."
      ],
      "metadata": {
        "id": "hAnEUAmrTU9_"
      }
    },
    {
      "cell_type": "code",
      "source": [
        "num = int(input(\"Enter a number: \"))\n",
        "\n",
        "if num <= 1:\n",
        "    print(f\"{num} is not a prime number.\")\n",
        "else:\n",
        "    is_prime = True\n",
        "    for i in range(2, int(num**0.5) + 1):\n",
        "        if num % i == 0:\n",
        "            is_prime = False\n",
        "            break\n",
        "    if is_prime:\n",
        "        print(f\"{num} is a prime number.\")\n",
        "    else:\n",
        "        print(f\"{num} is not a prime number.\")\n"
      ],
      "metadata": {
        "id": "6aJohW09TZkI",
        "colab": {
          "base_uri": "https://localhost:8080/"
        },
        "outputId": "82797b3c-418e-4259-9c2f-e9e7df5f2d54"
      },
      "execution_count": null,
      "outputs": [
        {
          "output_type": "stream",
          "name": "stdout",
          "text": [
            "Enter a number: 23\n",
            "23 is a prime number.\n"
          ]
        }
      ]
    },
    {
      "cell_type": "markdown",
      "source": [
        "**Elif Statements**"
      ],
      "metadata": {
        "id": "Wb1YgH-pTaD1"
      }
    },
    {
      "cell_type": "markdown",
      "source": [
        "21.Write a Python program to assign grades based on different ranges of scores using elif statements."
      ],
      "metadata": {
        "id": "aA5rT6UMTdRn"
      }
    },
    {
      "cell_type": "code",
      "source": [
        "score = int(input(\"Enter the score: \"))\n",
        "\n",
        "if score >= 90:\n",
        "    grade = 'A'\n",
        "elif score >= 80:\n",
        "    grade = 'B'\n",
        "elif score >= 70:\n",
        "    grade = 'C'\n",
        "elif score >= 60:\n",
        "    grade = 'D'\n",
        "else:\n",
        "    grade = 'F'\n",
        "\n",
        "print(f\"Grade: {grade}\")\n"
      ],
      "metadata": {
        "id": "kDdmBC47TiwH",
        "colab": {
          "base_uri": "https://localhost:8080/"
        },
        "outputId": "e0dd45da-c66b-4300-d7cd-2a4ab1a5911c"
      },
      "execution_count": null,
      "outputs": [
        {
          "output_type": "stream",
          "name": "stdout",
          "text": [
            "Enter the score: 89\n",
            "Grade: B\n"
          ]
        }
      ]
    },
    {
      "cell_type": "markdown",
      "source": [
        "22.Implement a program to determine the type of a triangle based on its angles"
      ],
      "metadata": {
        "id": "JylZS09hoVIh"
      }
    },
    {
      "cell_type": "code",
      "source": [
        "#user input\n",
        "angle1 = int(input(\"Enter the first angle in degrees: \"))\n",
        "angle2 = int(input(\"Enter the second angle in degrees: \"))\n",
        "angle3 = int(input(\"Enter the third angle in degrees: \"))\n",
        "\n",
        "# Check if the angles form a valid triangle\n",
        "if angle1 + angle2 + angle3 == 180:\n",
        "    if angle1 == angle2 == angle3:\n",
        "        triangle_type = \"Equilateral\"\n",
        "    elif angle1 == angle2 or angle2 == angle3 or angle1 == angle3:\n",
        "        triangle_type = \"Isosceles\"\n",
        "    else:\n",
        "        triangle_type = \"Scalene\"\n",
        "\n",
        "    #The type of triangle\n",
        "    print(f\"The triangle is a {triangle_type} triangle.\")\n",
        "else:\n",
        "    print(\"These angles do not form a valid triangle.\")\n"
      ],
      "metadata": {
        "id": "-M4wke31ocpG",
        "colab": {
          "base_uri": "https://localhost:8080/"
        },
        "outputId": "b561bd01-3d44-41f0-d635-577a911db805"
      },
      "execution_count": null,
      "outputs": [
        {
          "output_type": "stream",
          "name": "stdout",
          "text": [
            "Enter the first angle in degrees: 45\n",
            "Enter the second angle in degrees: 45\n",
            "Enter the third angle in degrees: 90\n",
            "The triangle is a Isosceles triangle.\n"
          ]
        }
      ]
    },
    {
      "cell_type": "markdown",
      "source": [
        "23.Develop a program to categorize a given person's BMI into underweight, normal, overweight, or obese using\n",
        "elif statements."
      ],
      "metadata": {
        "id": "FiSpq8_wodAA"
      }
    },
    {
      "cell_type": "code",
      "source": [
        "# Geting user input\n",
        "weight = float(input(\"Enter your weight in kilograms: \"))\n",
        "height = float(input(\"Enter your height in meters: \"))\n",
        "\n",
        "# Calculate BMI\n",
        "bmi = weight / (height * height)\n",
        "\n",
        "if bmi < 18.5:\n",
        "    category = \"Underweight\"\n",
        "elif 18.5 <= bmi < 24.9:\n",
        "    category = \"Normal Weight\"\n",
        "elif 25.0 <= bmi < 29.9:\n",
        "    category = \"Overweight\"\n",
        "else:\n",
        "    category = \"Obese\"\n",
        "print(f\"Your BMI is {bmi:.2f}, which categorizes you as {category}.\")\n"
      ],
      "metadata": {
        "id": "9142wtHlogs7",
        "colab": {
          "base_uri": "https://localhost:8080/"
        },
        "outputId": "aae7d7b3-7191-4ce2-c0a9-e9c3fbbbad8b"
      },
      "execution_count": null,
      "outputs": [
        {
          "output_type": "stream",
          "name": "stdout",
          "text": [
            "Enter your weight in kilograms: 59\n",
            "Enter your height in meters: 1.77\n",
            "Your BMI is 18.83, which categorizes you as Normal Weight.\n"
          ]
        }
      ]
    },
    {
      "cell_type": "markdown",
      "source": [
        "24.Create a program that determines whether a given number is positive, negative, or zero using elif\n",
        "statements"
      ],
      "metadata": {
        "id": "S3Qt0-_QohYR"
      }
    },
    {
      "cell_type": "code",
      "source": [
        "# input from user number\n",
        "number = int(input(\"Enter a number: \"))\n",
        "\n",
        "# Use if-elif-else statements to check the sign of the number\n",
        "if number > 0:\n",
        "    result = \"Positive\"\n",
        "elif number < 0:\n",
        "    result = \"Negative\"\n",
        "else:\n",
        "    result = \"Zero\"\n",
        "\n",
        "# Display the result\n",
        "print(f\"The number {number} is {result}.\")\n",
        "\n"
      ],
      "metadata": {
        "id": "xo5Qx4Bholmi",
        "colab": {
          "base_uri": "https://localhost:8080/"
        },
        "outputId": "c6444b4f-b727-4f99-e086-3cff81dc26fa"
      },
      "execution_count": null,
      "outputs": [
        {
          "output_type": "stream",
          "name": "stdout",
          "text": [
            "Enter a number: 45\n",
            "The number 45 is Positive.\n"
          ]
        }
      ]
    },
    {
      "cell_type": "markdown",
      "source": [
        "25.Write a Python script to determine the type of a character (uppercase, lowercase, or special) using elif\n",
        "statements"
      ],
      "metadata": {
        "id": "99heMvVFomM_"
      }
    },
    {
      "cell_type": "code",
      "source": [
        "# user input\n",
        "char = input(\"Enter a character: \")\n",
        "\n",
        "# Check the type of the character using elif statements\n",
        "if char.isalpha():\n",
        "    if char.isupper():\n",
        "        char_type = \"Uppercase\"\n",
        "    elif char.islower():\n",
        "        char_type = \"Lowercase\"\n",
        "else:\n",
        "    char_type = \"Special Character\"\n",
        "\n",
        "# Display the result\n",
        "print(f\"The character '{char}' is a {char_type} character.\")\n"
      ],
      "metadata": {
        "id": "R5e2RVBjoq0Y",
        "colab": {
          "base_uri": "https://localhost:8080/"
        },
        "outputId": "83708ac3-976a-4fca-bf21-821046915005"
      },
      "execution_count": null,
      "outputs": [
        {
          "output_type": "stream",
          "name": "stdout",
          "text": [
            "Enter a character: r\n",
            "The character 'r' is a Lowercase.... character.\n"
          ]
        }
      ]
    },
    {
      "cell_type": "markdown",
      "source": [
        "26.Implement a program to calculate the discounted price based on different purchase amounts using elif\n",
        "statements."
      ],
      "metadata": {
        "id": "A01fcPoWorKV"
      }
    },
    {
      "cell_type": "code",
      "source": [
        "purchase_amount = float(input(\"Enter the purchase amount: \"))\n",
        "\n",
        "discount_rate = 0.0\n",
        "discounted_price = 0.0\n",
        "\n",
        "if purchase_amount >= 1000:\n",
        "    discount_rate = 0.10\n",
        "elif purchase_amount >= 500:\n",
        "    discount_rate = 0.05\n",
        "elif purchase_amount >= 200:\n",
        "    discount_rate = 0.03\n",
        "else:\n",
        "    discount_rate = 0.0\n",
        "\n",
        "discounted_price = purchase_amount - (purchase_amount * discount_rate)\n",
        "\n",
        "print(f\"Original Price: {purchase_amount:.2f}\")\n",
        "print(f\"Discount Rate: {discount_rate * 100:.0f}%\")\n",
        "print(f\"Discounted Price: {discounted_price:.2f}\")\n"
      ],
      "metadata": {
        "id": "KHIQTR0Koukr",
        "colab": {
          "base_uri": "https://localhost:8080/"
        },
        "outputId": "dd0d41aa-aa7f-458b-c0b6-dc4ee759ff5a"
      },
      "execution_count": null,
      "outputs": [
        {
          "output_type": "stream",
          "name": "stdout",
          "text": [
            "Enter the purchase amount: 450\n",
            "Original Price: 450.00\n",
            "Discount Rate: 3%\n",
            "Discounted Price: 436.50\n"
          ]
        }
      ]
    },
    {
      "cell_type": "markdown",
      "source": [
        "27.Develop a program to calculate the electricity bill based on different consumption slabs using elif\n",
        "statements."
      ],
      "metadata": {
        "id": "vyM2_82povBS"
      }
    },
    {
      "cell_type": "code",
      "source": [
        "consumption = float(input(\"Enter the electricity consumption in kWh: \"))\n",
        "\n",
        "slab1_rate = 0.10\n",
        "slab2_rate = 0.15\n",
        "slab3_rate = 0.20\n",
        "slab1_limit = 100\n",
        "\n",
        "if consumption <= slab1_limit:\n",
        "    bill = consumption * slab1_rate\n",
        "elif consumption <= 2 * slab1_limit:\n",
        "    bill = (slab1_limit * slab1_rate) + ((consumption - slab1_limit) * slab2_rate)\n",
        "else:\n",
        "    bill = (slab1_limit * slab1_rate) + (slab1_limit * slab2_rate) + ((consumption - (2 * slab1_limit)) * slab3_rate)\n",
        "\n",
        "print(f\"Electricity Consumption: {consumption} kWh\")\n",
        "print(f\"Electricity Bill: {bill:.2f}\")\n"
      ],
      "metadata": {
        "id": "VsEv95Fkozd4",
        "colab": {
          "base_uri": "https://localhost:8080/"
        },
        "outputId": "ef905250-ed77-4574-b242-739e0b05977b"
      },
      "execution_count": null,
      "outputs": [
        {
          "output_type": "stream",
          "name": "stdout",
          "text": [
            "Enter the electricity consumption in kWh: 120\n",
            "Electricity Consumption: 120.0 kWh\n",
            "Electricity Bill: $13.00\n"
          ]
        }
      ]
    },
    {
      "cell_type": "markdown",
      "source": [
        "28.Create a program to determine the type of quadrilateral based on its angles and sides using elif\n",
        "statements."
      ],
      "metadata": {
        "id": "k1HJ4YZfoz9o"
      }
    },
    {
      "cell_type": "code",
      "source": [
        "# the angles of the quadrilateral from the user\n",
        "angle1 = float(input(\"Enter the first angle in degrees: \"))\n",
        "angle2 = float(input(\"Enter the second angle in degrees: \"))\n",
        "angle3 = float(input(\"Enter the third angle in degrees: \"))\n",
        "angle4 = float(input(\"Enter the fourth angle in degrees: \"))\n",
        "\n",
        "# the sides of the quadrilateral from the user\n",
        "side1 = float(input(\"Enter the length of the first side: \"))\n",
        "side2 = float(input(\"Enter the length of the second side: \"))\n",
        "side3 = float(input(\"Enter the length of the third side: \"))\n",
        "side4 = float(input(\"Enter the length of the fourth side: \"))\n",
        "\n",
        "if angle1 + angle2 + angle3 + angle4 != 360:\n",
        "    quadrilateral_type = \"Invalid\"89\n",
        "\n",
        "else:\n",
        "    if angle1 == angle2 == angle3 == angle4 == 90:\n",
        "        quadrilateral_type = \"Square\"\n",
        "    elif angle1 == angle3 and angle2 == angle4 and side1 == side2 == side3 == side4:\n",
        "        quadrilateral_type = \"Rectangle\"\n",
        "    elif angle1 == angle3 and angle2 == angle4:\n",
        "        quadrilateral_type = \"Parallelogram\"\n",
        "    elif side1 == side2 == side3 == side4:\n",
        "        quadrilateral_type = \"Rhombus\"\n",
        "    else:\n",
        "        quadrilateral_type = \"Quadrilateral\"\n",
        "\n",
        "# Display the type of quadrilateral\n",
        "print(f\"The quadrilateral is a {quadrilateral_type}.\")\n"
      ],
      "metadata": {
        "id": "ftOr8tZBqR6q",
        "colab": {
          "base_uri": "https://localhost:8080/"
        },
        "outputId": "e68025f4-dd1e-4d94-fb82-d6f7e587c180"
      },
      "execution_count": null,
      "outputs": [
        {
          "output_type": "stream",
          "name": "stdout",
          "text": [
            "Enter the first angle in degrees: 90\n",
            "Enter the second angle in degrees: 90\n",
            "Enter the third angle in degrees: 90\n",
            "Enter the fourth angle in degrees: 90\n",
            "Enter the length of the first side: 4\n",
            "Enter the length of the second side: 5\n",
            "Enter the length of the third side: 4\n",
            "Enter the length of the fourth side: 5\n",
            "The quadrilateral is a Square.\n"
          ]
        }
      ]
    },
    {
      "cell_type": "markdown",
      "source": [
        "29.Write a Python script to determine the season based on a user-provided month using elif statement"
      ],
      "metadata": {
        "id": "Twt0GZXqqSbC"
      }
    },
    {
      "cell_type": "code",
      "source": [
        "#take input from user month..\n",
        "month = int(input(\"Enter a month (1-12): \"))\n",
        "\n",
        "if 3 <= month <= 5:\n",
        "    season = \"Spring\"\n",
        "elif 6 <= month <= 8:\n",
        "    season = \"Summer\"\n",
        "elif 9 <= month <= 11:\n",
        "    season = \"Autumn\"\n",
        "else:\n",
        "    season = \"Winter\"\n",
        "\n",
        "# Display the season\n",
        "print(f\"The season for month {month} is {season}.\")\n"
      ],
      "metadata": {
        "id": "-xULEr6QqXw3",
        "colab": {
          "base_uri": "https://localhost:8080/"
        },
        "outputId": "e5f2c915-569a-45fe-c61c-2211db98795f"
      },
      "execution_count": null,
      "outputs": [
        {
          "output_type": "stream",
          "name": "stdout",
          "text": [
            "Enter a month (1-12): 6\n",
            "The season for month 6 is Summer.\n"
          ]
        }
      ]
    },
    {
      "cell_type": "markdown",
      "source": [
        "30.Implement a program to determine the type of a year (leap or common) and month (30 or 31 days) using\n",
        "elif statements"
      ],
      "metadata": {
        "id": "1PiWvTqqqYZ-"
      }
    },
    {
      "cell_type": "code",
      "source": [
        "# the year from the user as an integer\n",
        "year = int(input(\"Enter a year: \"))\n",
        "\n",
        "#the month from the user as an integer (1-12)\n",
        "month = int(input(\"Enter a month (1-12): \"))\n",
        "\n",
        "# Check if the year is a leap year using elif statements\n",
        "if (year % 4 == 0 and year % 100 != 0) or (year % 400 == 0):\n",
        "    year_type = \"Leap Year\"\n",
        "else:\n",
        "    year_type = \"Common Year\"\n",
        "\n",
        "# Check the number of days in the month using elif statements\n",
        "if month == 4 or month == 6 or month == 9 or month == 11:\n",
        "    days_in_month = 30\n",
        "elif month == 2:\n",
        "    if year_type == \"Leap Year\":\n",
        "        days_in_month = 29\n",
        "    else:\n",
        "        days_in_month = 28\n",
        "else:\n",
        "    days_in_month = 31\n",
        "\n",
        "# Display the type of year and number of days in the month\n",
        "print(f\"The year {year} is a {year_type}.\")\n",
        "print(f\"The month {month} has {days_in_month} days.\")\n"
      ],
      "metadata": {
        "id": "A88O-LSfqh2M",
        "colab": {
          "base_uri": "https://localhost:8080/"
        },
        "outputId": "4071dab1-1641-4358-dd22-f55d6dded819"
      },
      "execution_count": null,
      "outputs": [
        {
          "output_type": "stream",
          "name": "stdout",
          "text": [
            "Enter a year: 2400\n",
            "Enter a month (1-12): 4\n",
            "The year 2400 is a Leap Year.\n",
            "The month 4 has 30 days.\n"
          ]
        }
      ]
    },
    {
      "cell_type": "markdown",
      "source": [
        "Basic Level..."
      ],
      "metadata": {
        "id": "sQ5kw6q7qjn0"
      }
    },
    {
      "cell_type": "markdown",
      "source": [
        "1.Write a Python program that checks if a given number is positive, negative, or zero."
      ],
      "metadata": {
        "id": "k0E6NGX2qll-"
      }
    },
    {
      "cell_type": "code",
      "source": [
        "#take input from user\n",
        "number = int(input(\"Enter a number: \"))\n",
        "\n",
        "if number > 0:\n",
        "    print(\"The number is positive.\")\n",
        "elif number < 0:\n",
        "    print(\"The number is negative.\")\n",
        "else:\n",
        "    print(\"The number is zero.\")\n"
      ],
      "metadata": {
        "id": "KSwQev0rq-dy",
        "colab": {
          "base_uri": "https://localhost:8080/"
        },
        "outputId": "5bfbe0b1-8e3f-4b14-95ed-689b16b32ddc"
      },
      "execution_count": null,
      "outputs": [
        {
          "output_type": "stream",
          "name": "stdout",
          "text": [
            "Enter a number: 56\n",
            "The number is positive.\n"
          ]
        }
      ]
    },
    {
      "cell_type": "markdown",
      "source": [
        "2.Create a program to determine if a person is eligible to vote based on their age."
      ],
      "metadata": {
        "id": "x-sm7VlPq-5J"
      }
    },
    {
      "cell_type": "code",
      "source": [
        "# Take input from the user...\n",
        "age = int(input(\"Enter your age: \"))\n",
        "\n",
        "if age >= 18:\n",
        "    print(\"You are eligible to vote.\")\n",
        "else:\n",
        "    print(\"You are not eligible to vote.\")\n"
      ],
      "metadata": {
        "id": "wRJMjGnFrDrz",
        "colab": {
          "base_uri": "https://localhost:8080/"
        },
        "outputId": "1230be0e-6899-404a-d309-ba00f6d44c7a"
      },
      "execution_count": null,
      "outputs": [
        {
          "output_type": "stream",
          "name": "stdout",
          "text": [
            "Enter your age: 34\n",
            "You are eligible to vote.\n"
          ]
        }
      ]
    },
    {
      "cell_type": "markdown",
      "source": [
        "3.Write a program to find the maximum of two given numbers using conditional statements"
      ],
      "metadata": {
        "id": "FiHTRspIrEF0"
      }
    },
    {
      "cell_type": "code",
      "source": [
        "from traitlets.traitlets import Int\n",
        "# Take two numbers from the user\n",
        "num1 = int(input(\"Enter the first number: \"))\n",
        "num2 = int(input(\"Enter the second number: \"))\n",
        "\n",
        "# Find the maximum using a conditional statement\n",
        "if num1 > num2:\n",
        "    max_num = num1\n",
        "else:\n",
        "    max_num = num2\n",
        "\n",
        "# Display the maximum number\n",
        "print(f\"The maximum number is: {max_num}\")\n"
      ],
      "metadata": {
        "id": "xcdUYejLrIAZ",
        "colab": {
          "base_uri": "https://localhost:8080/"
        },
        "outputId": "c03121bb-07a3-46c3-d3b6-eb3174c7e201"
      },
      "execution_count": null,
      "outputs": [
        {
          "output_type": "stream",
          "name": "stdout",
          "text": [
            "Enter the first number: 45\n",
            "Enter the second number: -90\n",
            "The maximum number is: 45\n"
          ]
        }
      ]
    },
    {
      "cell_type": "markdown",
      "source": [
        "4.Develop a program that calculates the grade of a student based on their exam score."
      ],
      "metadata": {
        "id": "wF5sQs2crIa-"
      }
    },
    {
      "cell_type": "code",
      "source": [
        "# Take the exam score from the user\n",
        "exam_score = float(input(\"Enter the exam score: \"))\n",
        "\n",
        "# Calculate the grade based on the exam score using if-elif-else statements\n",
        "if 90 <= exam_score <= 100:\n",
        "    grade = 'A'\n",
        "elif 80 <= exam_score < 90:\n",
        "    grade = 'B'\n",
        "elif 70 <= exam_score < 80:\n",
        "    grade = 'C'\n",
        "elif 60 <= exam_score < 70:\n",
        "    grade = 'D'\n",
        "else:\n",
        "    grade = 'F'\n",
        "\n",
        "# Display the calculated grade\n",
        "print(f\"The student's grade is: {grade}\")\n"
      ],
      "metadata": {
        "id": "ADwk9N6jrN0l",
        "colab": {
          "base_uri": "https://localhost:8080/"
        },
        "outputId": "78c8124e-d2dd-4890-ba44-8d19ca618d21"
      },
      "execution_count": null,
      "outputs": [
        {
          "output_type": "stream",
          "name": "stdout",
          "text": [
            "Enter the exam score: 67\n",
            "The student's grade is: D\n"
          ]
        }
      ]
    },
    {
      "cell_type": "markdown",
      "source": [
        "5.Create a program that checks if a year is a leap year or not."
      ],
      "metadata": {
        "id": "4g9qZeEyrPaM"
      }
    },
    {
      "cell_type": "code",
      "source": [
        "# take the year from the user\n",
        "year = int(input(\"Enter a year: \"))\n",
        "\n",
        "# Check if the year is a leap year using conditional statements\n",
        "if (year % 4 == 0 and year % 100 != 0) or (year % 400 == 0):\n",
        "    print(f\"{year} is a leap year.\")\n",
        "else:\n",
        "    print(f\"{year} is not a leap year.\")\n"
      ],
      "metadata": {
        "id": "kUzodejSsZgm",
        "colab": {
          "base_uri": "https://localhost:8080/"
        },
        "outputId": "c31319a0-a524-41a1-e8d1-ca41527e0f7a"
      },
      "execution_count": null,
      "outputs": [
        {
          "output_type": "stream",
          "name": "stdout",
          "text": [
            "Enter a year: 5\n",
            "5 is not a leap year.\n"
          ]
        }
      ]
    },
    {
      "cell_type": "markdown",
      "source": [
        "6.Write a program to classify a triangle based on its sides' lengths"
      ],
      "metadata": {
        "id": "PbR_X8YGsaB_"
      }
    },
    {
      "cell_type": "code",
      "source": [
        "# Get the lengths of the three sides of the triangle from the user\n",
        "side1 = int(input(\"Enter the length of the first side: \"))\n",
        "side2 = int(input(\"Enter the length of the second side: \"))\n",
        "side3 = int(input(\"Enter the length of the third side: \"))\n",
        "\n",
        "# Check and classify the triangle based on side lengths using conditional statements\n",
        "if side1 == side2 == side3:\n",
        "    triangle_type = \"Equilateral\"\n",
        "elif side1 == side2 or side2 == side3 or side1 == side3:\n",
        "    triangle_type = \"Isosceles\"\n",
        "else:\n",
        "    triangle_type = \"Scalene\"\n",
        "\n",
        "# Display the classification of the triangle\n",
        "print(f\"The triangle is classified as: {triangle_type} triangle.\")\n"
      ],
      "metadata": {
        "id": "-sqDRVNHseG4",
        "colab": {
          "base_uri": "https://localhost:8080/"
        },
        "outputId": "c849d0c4-3607-4b20-e0b2-443b3671051a"
      },
      "execution_count": null,
      "outputs": [
        {
          "output_type": "stream",
          "name": "stdout",
          "text": [
            "Enter the length of the first side: 45\n",
            "Enter the length of the second side: 34\n",
            "Enter the length of the third side: 45\n",
            "The triangle is classified as: Isosceles triangle.\n"
          ]
        }
      ]
    },
    {
      "cell_type": "markdown",
      "source": [
        "7.Build a program that determines the largest of three given numbers"
      ],
      "metadata": {
        "id": "hcU51_q_sejg"
      }
    },
    {
      "cell_type": "code",
      "source": [
        "# Get three numbers from the user\n",
        "num1 = int(input(\"Enter the first number: \"))\n",
        "num2 = int(input(\"Enter the second number: \"))\n",
        "num3 = int(input(\"Enter the third number: \"))\n",
        "\n",
        "# Determine the largest number using conditional statements\n",
        "if num1 >= num2 and num1 >= num3:\n",
        "    largest = num1\n",
        "elif num2 >= num1 and num2 >= num3:\n",
        "    largest = num2\n",
        "else:\n",
        "    largest = num3\n",
        "\n",
        "# Display the largest number\n",
        "print(f\"The largest number is: {largest}\")\n"
      ],
      "metadata": {
        "id": "g4L_cOEWshgN",
        "colab": {
          "base_uri": "https://localhost:8080/"
        },
        "outputId": "3256b237-aa90-40a6-9068-dbaa793a72c2"
      },
      "execution_count": null,
      "outputs": [
        {
          "output_type": "stream",
          "name": "stdout",
          "text": [
            "Enter the first number: 34\n",
            "Enter the second number: 23\n",
            "Enter the third number: 12\n",
            "The largest number is: 34\n"
          ]
        }
      ]
    },
    {
      "cell_type": "markdown",
      "source": [
        "8.Develop a program that checks whether a character is a vowel or a consonant"
      ],
      "metadata": {
        "id": "g5oakQ7BsyPl"
      }
    },
    {
      "cell_type": "code",
      "source": [
        "# Get a character from the user (assuming it's a single character)\n",
        "char = input(\"Enter a character: \")\n",
        "\n",
        "# Convert the character to lowercase to handle both uppercase and lowercase characters\n",
        "char = char.lower()\n",
        "\n",
        "# Check if the character is a vowel or a consonant using conditional statements\n",
        "if char == 'a' or char == 'e' or char == 'i' or char == 'o' or char == 'u':\n",
        "    result = \"Vowel\"\n",
        "elif 'a' <= char <= 'z':\n",
        "    result = \"Consonant\"\n",
        "else:\n",
        "    result = \"Not a valid character\"\n",
        "\n",
        "# Display the result\n",
        "print(f\"The character '{char}' is a {result}.\")\n"
      ],
      "metadata": {
        "id": "tyFW_gBTs300",
        "colab": {
          "base_uri": "https://localhost:8080/"
        },
        "outputId": "406312bc-4a8f-4d59-81b9-a0e04506413e"
      },
      "execution_count": null,
      "outputs": [
        {
          "output_type": "stream",
          "name": "stdout",
          "text": [
            "Enter a character: r\n",
            "The character 'r' is a Consonant.\n"
          ]
        }
      ]
    },
    {
      "cell_type": "markdown",
      "source": [
        "9.Create a program to calculate the total cost of a shopping cart based on discounts."
      ],
      "metadata": {
        "id": "xfCtR6Kls4TQ"
      }
    },
    {
      "cell_type": "code",
      "source": [
        "num_items = int(input(\"Enter the number of items in the shopping cart: \"))\n",
        "\n",
        "total_cost = 0.0\n",
        "discount_rate = 0.0\n",
        "\n",
        "if num_items >= 10:\n",
        "    total_cost = num_items * 10\n",
        "    discount_rate = 0.1\n",
        "elif num_items >= 5:\n",
        "    total_cost = num_items * 12\n",
        "    discount_rate = 0.05\n",
        "else:\n",
        "    total_cost = num_items * 15\n",
        "\n",
        "discount_amount = total_cost * discount_rate\n",
        "final_cost = total_cost - discount_amount\n",
        "\n",
        "print(f\"Total Cost (before discount): {total_cost:.2f}\")\n",
        "print(f\"Discount Rate: {discount_rate * 100:.0f}%\")\n",
        "print(f\"Discount Amount: {discount_amount:.2f}\")\n",
        "print(f\"Final Cost (after discount): {final_cost:.2f}\")\n"
      ],
      "metadata": {
        "id": "QOn62Orss9Cy",
        "colab": {
          "base_uri": "https://localhost:8080/"
        },
        "outputId": "f2656df9-c77c-46dd-fb49-f042c1bb959e"
      },
      "execution_count": null,
      "outputs": [
        {
          "output_type": "stream",
          "name": "stdout",
          "text": [
            "Enter the number of items in the shopping cart: 5\n",
            "Total Cost (before discount): $60.00\n",
            "Discount Rate: 5%\n",
            "Discount Amount: $3.00\n",
            "Final Cost (after discount): $57.00\n"
          ]
        }
      ]
    },
    {
      "cell_type": "markdown",
      "source": [
        "10.Write a program that checks if a given number is even or odd"
      ],
      "metadata": {
        "id": "mzvkn2Ros9Yz"
      }
    },
    {
      "cell_type": "code",
      "source": [
        "number = int(input(\"Enter a number: \"))\n",
        "\n",
        "if number % 2 == 0:\n",
        "    print(f\"{number} is even.\")\n",
        "else:\n",
        "    print(f\"{number} is odd.\")\n"
      ],
      "metadata": {
        "id": "aTwTCoTAtBYd",
        "colab": {
          "base_uri": "https://localhost:8080/"
        },
        "outputId": "1393957c-3380-4de2-b945-c907b01ff4fa"
      },
      "execution_count": null,
      "outputs": [
        {
          "output_type": "stream",
          "name": "stdout",
          "text": [
            "Enter a number: 34\n",
            "34 is even.\n"
          ]
        }
      ]
    },
    {
      "cell_type": "markdown",
      "source": [
        "**Intermediate Level:**"
      ],
      "metadata": {
        "id": "1R6Ak2ZRtCSc"
      }
    },
    {
      "cell_type": "markdown",
      "source": [
        "11.Write a program that calculates the roots of a quadratic equation ."
      ],
      "metadata": {
        "id": "NpoYE0-0tIR4"
      }
    },
    {
      "cell_type": "code",
      "source": [
        "import math\n",
        "\n",
        "# Get the coefficients of the quadratic equation from the user\n",
        "a = float(input(\"Enter the coefficient of x^2: \"))\n",
        "b = float(input(\"Enter the coefficient of x: \"))\n",
        "c = float(input(\"Enter the constant term: \"))\n",
        "\n",
        "# Calculate the discriminant\n",
        "discriminant = b ** 2 - 4 * a * c\n",
        "\n",
        "# Calculate the roots of the quadratic equation\n",
        "if discriminant > 0:\n",
        "    root1 = (-b + math.sqrt(discriminant)) / (2 * a)\n",
        "    root2 = (-b - math.sqrt(discriminant)) / (2 * a)\n",
        "    print(f\"Root 1: {root1:.2f}\")\n",
        "    print(f\"Root 2: {root2:.2f}\")\n",
        "elif discriminant == 0:\n",
        "    root = -b / (2 * a)\n",
        "    print(f\"Root: {root:.2f}\")\n",
        "else:\n",
        "    real_part = -b / (2 * a)\n",
        "    imaginary_part = math.sqrt(-discriminant) / (2 * a)\n",
        "    print(f\"Root 1: {real_part:.2f} + {imaginary_part:.2f}i\")\n",
        "    print(f\"Root 2: {real_part:.2f} - {imaginary_part:.2f}i\")\n"
      ],
      "metadata": {
        "id": "F1Dz5uCxtJ9M",
        "colab": {
          "base_uri": "https://localhost:8080/"
        },
        "outputId": "665ba609-a7ce-409e-d1b3-280fd0320487"
      },
      "execution_count": null,
      "outputs": [
        {
          "output_type": "stream",
          "name": "stdout",
          "text": [
            "Enter the coefficient of x^2: 1\n",
            "Enter the coefficient of x: 3\n",
            "Enter the constant term: 5\n",
            "Root 1: -1.50 + 1.66i\n",
            "Root 2: -1.50 - 1.66i\n"
          ]
        }
      ]
    },
    {
      "cell_type": "markdown",
      "source": [
        "12.Create a program that determines the day of the week based on the day number (1-7)."
      ],
      "metadata": {
        "id": "G_OafCN2tKb3"
      }
    },
    {
      "cell_type": "code",
      "source": [
        "# Get the day number from the user (1-7)\n",
        "day_number = int(input(\"Enter a day number (1-7): \"))\n",
        "\n",
        "if day_number == 1:\n",
        "    day = \"Sunday\"\n",
        "elif day_number == 2:\n",
        "    day = \"Monday\"\n",
        "elif day_number == 3:\n",
        "    day = \"Tuesday\"\n",
        "elif day_number == 4:\n",
        "    day = \"Wednesday\"\n",
        "elif day_number == 5:\n",
        "    day = \"Thursday\"\n",
        "elif day_number == 6:\n",
        "    day = \"Friday\"\n",
        "elif day_number == 7:\n",
        "    day = \"Saturday\"\n",
        "else:\n",
        "    day = \"Invalid day number\"\n",
        "\n",
        "# Display the day of the week\n",
        "print(f\"Day {day_number} corresponds to {day}.\")\n"
      ],
      "metadata": {
        "id": "QzqokeYVtOI0",
        "colab": {
          "base_uri": "https://localhost:8080/"
        },
        "outputId": "c12b210a-e9ce-401e-c488-d7d93abcea94"
      },
      "execution_count": null,
      "outputs": [
        {
          "output_type": "stream",
          "name": "stdout",
          "text": [
            "Enter a day number (1-7): 5\n",
            "Day 5 corresponds to Thursday.\n"
          ]
        }
      ]
    },
    {
      "cell_type": "markdown",
      "source": [
        "13.Develop a program that calculates the factorial of a given number using recursion"
      ],
      "metadata": {
        "id": "7loqeMYctOfe"
      }
    },
    {
      "cell_type": "code",
      "source": [
        "def factorial(n):\n",
        "    if n == 0:\n",
        "        return 1\n",
        "    else:\n",
        "        return n * factorial(n - 1)\n",
        "\n",
        "num = int(input(\"Enter a number: \"))\n",
        "result = factorial(num)\n",
        "print(f\"The factorial of {num} is: {result}\")\n"
      ],
      "metadata": {
        "id": "mrhy93JBtSnz",
        "colab": {
          "base_uri": "https://localhost:8080/"
        },
        "outputId": "54cb6b3a-9427-4d62-b9e2-9bcf0428ab2b"
      },
      "execution_count": null,
      "outputs": [
        {
          "output_type": "stream",
          "name": "stdout",
          "text": [
            "Enter a number: 5\n",
            "The factorial of 5 is: 120\n"
          ]
        }
      ]
    },
    {
      "cell_type": "markdown",
      "source": [
        "14.Write a program to find the largest among three numbers without using the `max()` function."
      ],
      "metadata": {
        "id": "IYosiG9vtS7w"
      }
    },
    {
      "cell_type": "code",
      "source": [
        "num1 = int(input(\"Enter the first number: \"))\n",
        "num2 = int(input(\"Enter the second number: \"))\n",
        "num3 = int(input(\"Enter the third number: \"))\n",
        "\n",
        "if num1 >= num2 and num1 >= num3:\n",
        "    largest = num1\n",
        "elif num2 >= num1 and num2 >= num3:\n",
        "    largest = num2\n",
        "else:\n",
        "    largest = num3\n",
        "\n",
        "print(f\"The largest number is: {largest}\")\n"
      ],
      "metadata": {
        "id": "NRsrBAQktYHP",
        "colab": {
          "base_uri": "https://localhost:8080/"
        },
        "outputId": "bc03af29-2ea8-4d34-d618-1c71a75da800"
      },
      "execution_count": null,
      "outputs": [
        {
          "output_type": "stream",
          "name": "stdout",
          "text": [
            "Enter the first number: 56\n",
            "Enter the second number: 4\n",
            "Enter the third number: 23\n",
            "The largest number is: 56\n"
          ]
        }
      ]
    },
    {
      "cell_type": "markdown",
      "source": [
        "15.Create a program that simulates a basic ATM transaction menu"
      ],
      "metadata": {
        "id": "r3TrSeSKtYdB"
      }
    },
    {
      "cell_type": "code",
      "source": [
        "# Initialize the account balance\n",
        "account_balance = 1000.0\n",
        "\n",
        "while True:\n",
        "    # Display the ATM menu options\n",
        "    print(\"\\nATM Menu:\")\n",
        "    print(\"1. Check Balance\")\n",
        "    print(\"2. Deposit\")\n",
        "    print(\"3. Withdraw\")\n",
        "    print(\"4. Quit\")\n",
        "\n",
        "    # Get the user's choice\n",
        "    choice = input(\"Enter your choice (1/2/3/4): \")\n",
        "\n",
        "    if choice == '1':\n",
        "        print(f\"Your account balance is {account_balance:.2f}\")\n",
        "    elif choice == '2':\n",
        "        deposit_amount = float(input(\"Enter the deposit amount: \"))\n",
        "        account_balance += deposit_amount\n",
        "        print(f\"Deposited ${deposit_amount:.2f} successfully. New balance: {account_balance:.2f}\")\n",
        "    elif choice == '3':\n",
        "        withdraw_amount = float(input(\"Enter the withdrawal amount: \"))\n",
        "        if withdraw_amount <= account_balance:\n",
        "            account_balance -= withdraw_amount\n",
        "            print(f\"Withdrew {withdraw_amount:.2f} successfully. New balance: {account_balance:.2f}\")\n",
        "        else:\n",
        "            print(\"Insufficient funds. Withdrawal failed.\")\n",
        "    elif choice == '4':\n",
        "        print(\"Thank you for using the ATM. Have a nice day!\")\n",
        "        break\n",
        "    else:\n",
        "        print(\"Invalid choice. Please select a valid option (1/2/3/4).\")\n"
      ],
      "metadata": {
        "id": "pbf9w1Dftb9-",
        "colab": {
          "base_uri": "https://localhost:8080/"
        },
        "outputId": "f7b57e06-8f04-4173-f113-b328e4eb0b4e"
      },
      "execution_count": null,
      "outputs": [
        {
          "output_type": "stream",
          "name": "stdout",
          "text": [
            "\n",
            "ATM Menu:\n",
            "1. Check Balance\n",
            "2. Deposit\n",
            "3. Withdraw\n",
            "4. Quit\n",
            "Enter your choice (1/2/3/4): 1\n",
            "Your account balance is 1000.00\n",
            "\n",
            "ATM Menu:\n",
            "1. Check Balance\n",
            "2. Deposit\n",
            "3. Withdraw\n",
            "4. Quit\n",
            "Enter your choice (1/2/3/4): 2\n",
            "Enter the deposit amount: 2300\n",
            "Deposited $2300.00 successfully. New balance: 3300.00\n",
            "\n",
            "ATM Menu:\n",
            "1. Check Balance\n",
            "2. Deposit\n",
            "3. Withdraw\n",
            "4. Quit\n",
            "Enter your choice (1/2/3/4): 4\n",
            "Thank you for using the ATM. Have a nice day!\n"
          ]
        }
      ]
    },
    {
      "cell_type": "markdown",
      "source": [
        "16.Build a program that checks if a given string is a palindrome or not"
      ],
      "metadata": {
        "id": "Py7FwXEStcd0"
      }
    },
    {
      "cell_type": "code",
      "source": [
        "input_string = input(\"Enter a string: \")\n",
        "cleaned_string = input_string.replace(\" \", \"\").lower()\n",
        "\n",
        "if cleaned_string == cleaned_string[::-1]:\n",
        "    print(f\"'{input_string}' is a palindrome.\")\n",
        "else:\n",
        "    print(f\"'{input_string}' is not a palindrome.\")\n"
      ],
      "metadata": {
        "id": "l8gtbqGctfzD",
        "colab": {
          "base_uri": "https://localhost:8080/"
        },
        "outputId": "9e0d73b9-882c-48f2-85c6-c3239c2dafb7"
      },
      "execution_count": null,
      "outputs": [
        {
          "output_type": "stream",
          "name": "stdout",
          "text": [
            "Enter a string: abba\n",
            "'abba' is a palindrome.\n"
          ]
        }
      ]
    },
    {
      "cell_type": "markdown",
      "source": [
        "17.Write a program that calculates the average of a list of numbers, excluding the smallest and largest values"
      ],
      "metadata": {
        "id": "hblPHCB1theb"
      }
    },
    {
      "cell_type": "code",
      "source": [
        "numbers = input(\"Enter a list of numbers separated by spaces: \").split()\n",
        "number_list = [float(num) for num in numbers]\n",
        "\n",
        "if len(number_list) >= 3:\n",
        "    number_list.remove(min(number_list))\n",
        "    number_list.remove(max(number_list))\n",
        "    average = sum(number_list) / len(number_list)\n",
        "    print(f\"The average (excluding the smallest and largest values) is: {average:.2f}\")\n",
        "else:\n",
        "    print(\"Please enter at least 3 numbers to calculate the average.\")\n"
      ],
      "metadata": {
        "id": "qvFVKAfNtlWD",
        "colab": {
          "base_uri": "https://localhost:8080/"
        },
        "outputId": "c2d883f2-1340-429f-e242-f6dd75464c32"
      },
      "execution_count": null,
      "outputs": [
        {
          "output_type": "stream",
          "name": "stdout",
          "text": [
            "Enter a list of numbers separated by spaces: 12 34 56 78\n",
            "The average (excluding the smallest and largest values) is: 45.00\n"
          ]
        }
      ]
    },
    {
      "cell_type": "markdown",
      "source": [
        "18.Develop a program that converts a given temperature from Celsius to Fahrenheit."
      ],
      "metadata": {
        "id": "5hE9aZ0PtmZi"
      }
    },
    {
      "cell_type": "code",
      "source": [
        "celsius = float(input(\"Enter the temperature in Celsius: \"))\n",
        "\n",
        "fahrenheit = (celsius * 9/5) + 32\n",
        "\n",
        "print(f\"{celsius} degrees Celsius is equal to {fahrenheit} degrees Fahrenheit.\")\n"
      ],
      "metadata": {
        "id": "wPyN50SctrF-",
        "colab": {
          "base_uri": "https://localhost:8080/"
        },
        "outputId": "62eb8baf-0e6a-4da0-80ed-c932afd4f5d5"
      },
      "execution_count": null,
      "outputs": [
        {
          "output_type": "stream",
          "name": "stdout",
          "text": [
            "Enter the temperature in Celsius: 36\n",
            "36.0 degrees Celsius is equal to 96.8 degrees Fahrenheit.\n"
          ]
        }
      ]
    },
    {
      "cell_type": "markdown",
      "source": [
        "19.Create a program that simulates a basic calculator for addition, subtraction, multiplication, and division."
      ],
      "metadata": {
        "id": "s8T76V8atrf-"
      }
    },
    {
      "cell_type": "code",
      "source": [
        "# Get the user's choice of operation\n",
        "print(\"Select operation:\")\n",
        "print(\"1. Addition\")\n",
        "print(\"2. Subtraction\")\n",
        "print(\"3. Multiplication\")\n",
        "print(\"4. Division\")\n",
        "\n",
        "choice = input(\"Enter choice (1/2/3/4): \")\n",
        "\n",
        "# Get the two numbers from the user\n",
        "num1 = int(input(\"Enter the first number: \"))\n",
        "num2 = int(input(\"Enter the second number: \"))\n",
        "\n",
        "# Perform the selected operation and display the result\n",
        "if choice == '1':\n",
        "    result = num1 + num2\n",
        "    operation = \"addition\"\n",
        "elif choice == '2':\n",
        "    result = num1 - num2\n",
        "    operation = \"subtraction\"\n",
        "elif choice == '3':\n",
        "    result = num1 * num2\n",
        "    operation = \"multiplication\"\n",
        "elif choice == '4':\n",
        "    if num2 != 0:\n",
        "        result = num1 / num2\n",
        "        operation = \"division\"\n",
        "    else:\n",
        "        operation = \"division by zero\"\n",
        "        result = \"undefined\"\n",
        "else:\n",
        "    operation = \"invalid choice\"\n",
        "    result = \"undefined\"\n",
        "\n",
        "# Display the result\n",
        "print(f\"Result of {operation}: {result}\")\n"
      ],
      "metadata": {
        "id": "Gb7m10-9tyQu",
        "colab": {
          "base_uri": "https://localhost:8080/"
        },
        "outputId": "4a87f940-4e1d-41a3-b383-e92f617af0da"
      },
      "execution_count": null,
      "outputs": [
        {
          "output_type": "stream",
          "name": "stdout",
          "text": [
            "Select operation:\n",
            "1. Addition\n",
            "2. Subtraction\n",
            "3. Multiplication\n",
            "4. Division\n",
            "Enter choice (1/2/3/4): 4\n",
            "Enter the first number: 12\n",
            "Enter the second number: 5\n",
            "Result of division: 2.4\n"
          ]
        }
      ]
    },
    {
      "cell_type": "markdown",
      "source": [
        "20.Write a program that determines the roots of a cubic equation using the Cardano formula."
      ],
      "metadata": {
        "id": "WHh5gHOhtypi"
      }
    },
    {
      "cell_type": "code",
      "source": [
        "import cmath\n",
        "\n",
        "a = float(input(\"Enter the coefficient of x^3: \"))\n",
        "b = float(input(\"Enter the coefficient of x^2: \"))\n",
        "c = float(input(\"Enter the coefficient of x: \"))\n",
        "d = float(input(\"Enter the constant term: \"))\n",
        "\n",
        "p = c / a - (b ** 2) / (3 * a ** 2)\n",
        "q = (2 * b ** 3) / (27 * a ** 3) - (b * c) / (3 * a ** 2) + d / a\n",
        "\n",
        "discriminant = (q ** 2) / 4 + (p ** 3) / 27\n",
        "\n",
        "if discriminant > 0:\n",
        "    root1 = (-q / 2 + cmath.sqrt(discriminant)) ** (1 / 3)\n",
        "    root2 = (-q / 2 - cmath.sqrt(discriminant)) ** (1 / 3)\n",
        "    root3 = -b / (3 * a)\n",
        "elif discriminant == 0:\n",
        "    root1 = -((q / 2) ** (1 / 3))\n",
        "    root2 = root3 = (q / (a * root1)) - (b / (3 * a))\n",
        "else:\n",
        "    r = cmath.sqrt(-(p ** 3) / 27)\n",
        "    theta = cmath.acos(-q / (2 * r))\n",
        "    root1 = 2 * cmath.sqrt(-p / 3) * cmath.cos(theta / 3)\n",
        "    root2 = 2 * cmath.sqrt(-p / 3) * cmath.cos((theta + 2 * cmath.pi) / 3)\n",
        "    root3 = 2 * cmath.sqrt(-p / 3) * cmath.cos((theta + 4 * cmath.pi) / 3)\n",
        "\n",
        "print(\"Root 1:\", root1)\n",
        "print(\"Root 2:\", root2)\n",
        "print(\"Root 3:\", root3)\n"
      ],
      "metadata": {
        "id": "dH94BVtXt3Ac",
        "colab": {
          "base_uri": "https://localhost:8080/"
        },
        "outputId": "996274fc-04c9-4e66-e485-7aec37d27f08"
      },
      "execution_count": null,
      "outputs": [
        {
          "output_type": "stream",
          "name": "stdout",
          "text": [
            "Enter the coefficient of x^3: 4\n",
            "Enter the coefficient of x^2: 2\n",
            "Enter the coefficient of x: 3\n",
            "Enter the constant term: 4\n",
            "Root 1: (0.2304644985698741+0j)\n",
            "Root 2: (0.4821181214486425+0.8350530815987111j)\n",
            "Root 3: -0.16666666666666666\n"
          ]
        }
      ]
    },
    {
      "cell_type": "markdown",
      "source": [
        "Advanced Level:"
      ],
      "metadata": {
        "id": "JAKwcVyjt3jr"
      }
    },
    {
      "cell_type": "markdown",
      "source": [
        "21.Create a program that calculates the income tax based on the user's income and tax brackets"
      ],
      "metadata": {
        "id": "GMJ-afWTt6eG"
      }
    },
    {
      "cell_type": "code",
      "source": [
        "income = float(input(\"Enter your annual income: \"))\n",
        "\n",
        "tax_brackets = [(0, 9875), (9876, 40125), (40126, 85525), (85526, 163300), (163301, 207350), (207351, 518400)]\n",
        "tax_rates = [0.1, 0.12, 0.22, 0.24, 0.32, 0.35, 0.37]\n",
        "\n",
        "tax_owed = 0\n",
        "for i, bracket in enumerate(tax_brackets):\n",
        "    min_income, max_income = bracket\n",
        "    rate = tax_rates[i]\n",
        "    if income <= min_income:\n",
        "        tax_owed += income * rate\n",
        "        break\n",
        "    elif income <= max_income:\n",
        "        tax_owed += (income - min_income) * rate\n",
        "        break\n",
        "    else:\n",
        "        tax_owed += (max_income - min_income) * rate\n",
        "\n",
        "print(f\"Your income tax owed is: {tax_owed:.2f}\")\n"
      ],
      "metadata": {
        "id": "4LwRp0k0t_Ec",
        "colab": {
          "base_uri": "https://localhost:8080/"
        },
        "outputId": "89a74920-14a2-485a-819d-8bf77ec81177"
      },
      "execution_count": null,
      "outputs": [
        {
          "output_type": "stream",
          "name": "stdout",
          "text": [
            "Enter your annual income: 120000\n",
            "Your income tax owed is: 22878.92\n"
          ]
        }
      ]
    },
    {
      "cell_type": "markdown",
      "source": [
        "22.Write a program that simulates a rock-paper-scissors game against the computer"
      ],
      "metadata": {
        "id": "XeiDQC5ht_bc"
      }
    },
    {
      "cell_type": "code",
      "source": [
        "import random\n",
        "\n",
        "choices = [\"rock\", \"paper\", \"scissors\"]\n",
        "\n",
        "user_choice = input(\"Enter your choice (rock/paper/scissors): \").lower()\n",
        "\n",
        "if user_choice not in choices:\n",
        "    print(\"Invalid choice. Please choose rock, paper, or scissors.\")\n",
        "else:\n",
        "    computer_choice = random.choice(choices)\n",
        "\n",
        "    print(f\"You chose: {user_choice}\")\n",
        "    print(f\"Computer chose: {computer_choice}\")\n",
        "\n",
        "    if user_choice == computer_choice:\n",
        "        print(\"It's a tie!\")\n",
        "    elif (\n",
        "        (user_choice == \"rock\" and computer_choice == \"scissors\") or\n",
        "        (user_choice == \"scissors\" and computer_choice == \"paper\") or\n",
        "        (user_choice == \"paper\" and computer_choice == \"rock\")\n",
        "    ):\n",
        "        print(\"You win!\")\n",
        "    else:\n",
        "        print(\"Computer wins!\")\n"
      ],
      "metadata": {
        "id": "Kz4eWg4duDg5",
        "colab": {
          "base_uri": "https://localhost:8080/"
        },
        "outputId": "90200ee6-310a-439b-9796-bb4e34dd2c93"
      },
      "execution_count": null,
      "outputs": [
        {
          "output_type": "stream",
          "name": "stdout",
          "text": [
            "Enter your choice (rock/paper/scissors): rock\n",
            "You chose: rock\n",
            "Computer chose: paper\n",
            "Computer wins!\n"
          ]
        }
      ]
    },
    {
      "cell_type": "markdown",
      "source": [
        "23.Develop a program that generates a random password based on user preferences (length, complexity)."
      ],
      "metadata": {
        "id": "GxlRmD27uD3S"
      }
    },
    {
      "cell_type": "code",
      "source": [
        "import random\n",
        "import string\n",
        "\n",
        "def generate_password(length, use_uppercase, use_digits, use_special_chars):\n",
        "    characters = string.ascii_lowercase\n",
        "    if use_uppercase:\n",
        "        characters += string.ascii_uppercase\n",
        "    if use_digits:\n",
        "        characters += string.digits\n",
        "    if use_special_chars:\n",
        "        characters += string.punctuation\n",
        "\n",
        "    password = ''.join(random.choice(characters) for _ in range(length))\n",
        "    return password\n",
        "\n",
        "length = int(input(\"Enter the desired length of the password: \"))\n",
        "use_uppercase = input(\"Use uppercase letters? (yes/no): \").lower() == \"yes\"\n",
        "use_digits = input(\"Use digits? (yes/no): \").lower() == \"yes\"\n",
        "use_special_chars = input(\"Use special characters? (yes/no): \").lower() == \"yes\"\n",
        "\n",
        "password = generate_password(length, use_uppercase, use_digits, use_special_chars)\n",
        "print(\"Generated Password:\", password)\n"
      ],
      "metadata": {
        "id": "aQ-aDy2tuHqb",
        "colab": {
          "base_uri": "https://localhost:8080/"
        },
        "outputId": "cc6be45a-7683-4157-e07d-189b59008375"
      },
      "execution_count": null,
      "outputs": [
        {
          "output_type": "stream",
          "name": "stdout",
          "text": [
            "Enter the desired length of the password: 6\n",
            "Use uppercase letters? (yes/no): yes\n",
            "Use digits? (yes/no): 123456\n",
            "Use special characters? (yes/no): @#$%^&\n",
            "Generated Password: rZsUHj\n"
          ]
        }
      ]
    },
    {
      "cell_type": "markdown",
      "source": [
        "24.Create a program that implements a simple text-based adventure game with branching scenarios."
      ],
      "metadata": {
        "id": "SPV0MppfuIAi"
      }
    },
    {
      "cell_type": "code",
      "source": [
        "import time\n",
        "\n",
        "def delay_print(text, delay=1):\n",
        "    for char in text:\n",
        "        print(char, end='', flush=True)\n",
        "        time.sleep(delay)\n",
        "    print()\n",
        "\n",
        "def get_choice(choices):\n",
        "    while True:\n",
        "        for idx, choice in enumerate(choices, 1):\n",
        "            print(f\"{idx}. {choice}\")\n",
        "        try:\n",
        "            choice = int(input(\"Enter your choice: \"))\n",
        "            if 1 <= choice <= len(choices):\n",
        "                return choice\n",
        "            else:\n",
        "                print(\"Invalid choice. Please enter a valid option.\")\n",
        "        except ValueError:\n",
        "            print(\"Invalid input. Please enter a number.\")\n",
        "\n",
        "delay_print(\"Welcome to the Adventure Game!\")\n",
        "\n",
        "choice1 = get_choice([\"Explore the forest.\", \"Stay where you are.\"])\n",
        "\n",
        "if choice1 == 1:\n",
        "    delay_print(\"\\nYou venture into the forest and find a mysterious cave.\")\n",
        "    choice2 = get_choice([\"Enter the cave.\", \"Ignore the cave and keep exploring.\"])\n",
        "\n",
        "    if choice2 == 1:\n",
        "        delay_print(\"\\nInside the cave, you discover a hidden treasure chest.\")\n",
        "        delay_print(\"Congratulations! You win the game!\")\n",
        "    else:\n",
        "        delay_print(\"\\nYou continue exploring the forest.\")\n",
        "        delay_print(\"Unfortunately, you get lost and can't find your way back.\")\n",
        "        delay_print(\"Game Over!\")\n",
        "else:\n",
        "    delay_print(\"\\nYou decide to stay where you are.\")\n",
        "    delay_print(\"After a while, you hear strange noises approaching.\")\n",
        "    delay_print(\"Suddenly, a group of wild animals appears!\")\n",
        "    delay_print(\"You try to escape, but it's too late.\")\n",
        "    delay_print(\"Game Over!\")\n",
        "\n",
        "delay_print(\"\\nThanks for playing the Adventure Game!\")\n"
      ],
      "metadata": {
        "id": "YnIRK44_uMgA",
        "colab": {
          "base_uri": "https://localhost:8080/"
        },
        "outputId": "dc7a9e34-a936-41ac-c7e2-d73dde5f3d83"
      },
      "execution_count": null,
      "outputs": [
        {
          "output_type": "stream",
          "name": "stdout",
          "text": [
            "Welcome to the Adventure Game!\n",
            "1. Explore the forest.\n",
            "2. Stay where you are.\n",
            "Enter your choice: 1\n",
            "\n",
            "You venture into the forest and find a mysterious cave.\n",
            "1. Enter the cave.\n",
            "2. Ignore the cave and keep exploring.\n",
            "Enter your choice: 1\n",
            "\n",
            "Inside the cave, you discover a hidden treasure chest.\n",
            "Congratulations! You win the game!\n",
            "\n",
            "Thanks for playing the Adventure Game!\n"
          ]
        }
      ]
    },
    {
      "cell_type": "markdown",
      "source": [
        "25.Build a program that solves a linear equation  for x, considering different cases."
      ],
      "metadata": {
        "id": "xB8_AGB-uSHK"
      }
    },
    {
      "cell_type": "code",
      "source": [
        "a = float(input(\"Enter the coefficient 'a': \"))\n",
        "b = float(input(\"Enter the coefficient 'b': \"))\n",
        "c = float(input(\"Enter the constant 'c': \"))\n",
        "\n",
        "if a == 0:\n",
        "    if b == c:\n",
        "        print(\"Infinite solutions (x can be any real number).\")\n",
        "    else:\n",
        "        print(\"No solution.\")\n",
        "else:\n",
        "    x = (c - b) / a\n",
        "    print(f\"The solution for 'x' is: {x}\")\n"
      ],
      "metadata": {
        "id": "fLEAeNnguWLa",
        "colab": {
          "base_uri": "https://localhost:8080/"
        },
        "outputId": "391826c5-df60-4b0b-f9ef-ac6ff50a7801"
      },
      "execution_count": null,
      "outputs": [
        {
          "output_type": "stream",
          "name": "stdout",
          "text": [
            "Enter the coefficient 'a': 1\n",
            "Enter the coefficient 'b': 3\n",
            "Enter the constant 'c': 4\n",
            "The solution for 'x' is: 1.0\n"
          ]
        }
      ]
    },
    {
      "cell_type": "markdown",
      "source": [
        "26.Write a program that simulates a basic quiz game with multiple-choice questions and scoring."
      ],
      "metadata": {
        "id": "hZq8a7QduWg6"
      }
    },
    {
      "cell_type": "code",
      "source": [
        "questions = [\n",
        "    {\n",
        "        \"question\": \"What is the capital of France?\",\n",
        "        \"options\": [\"London\", \"Madrid\", \"Paris\", \"Berlin\"],\n",
        "        \"correct_answer\": \"Paris\",\n",
        "    },\n",
        "    {\n",
        "        \"question\": \"Which planet is known as the Red Planet?\",\n",
        "        \"options\": [\"Earth\", \"Mars\", \"Jupiter\", \"Venus\"],\n",
        "        \"correct_answer\": \"Mars\",\n",
        "    },\n",
        "    {\n",
        "        \"question\": \"What is the largest mammal in the world?\",\n",
        "        \"options\": [\"Elephant\", \"Giraffe\", \"Blue Whale\", \"Lion\"],\n",
        "        \"correct_answer\": \"Blue Whale\",\n",
        "    },\n",
        "]\n",
        "\n",
        "score = 0\n",
        "\n",
        "def ask_question(question_data):\n",
        "    print(question_data[\"question\"])\n",
        "    for i, option in enumerate(question_data[\"options\"], 1):\n",
        "        print(f\"{i}. {option}\")\n",
        "    user_answer = input(\"Enter the number of your answer (1/2/3/4): \")\n",
        "    if user_answer.isdigit() and 1 <= int(user_answer) <= 4:\n",
        "        user_answer = question_data[\"options\"][int(user_answer) - 1]\n",
        "        return user_answer\n",
        "    else:\n",
        "        print(\"Invalid input. Please enter a valid option.\")\n",
        "        return ask_question(question_data)\n",
        "\n",
        "print(\"Welcome to the Quiz Game!\")\n",
        "\n",
        "for question in questions:\n",
        "    user_answer = ask_question(question)\n",
        "    if user_answer == question[\"correct_answer\"]:\n",
        "        print(\"Correct!\")\n",
        "        score += 1\n",
        "    else:\n",
        "        print(f\"Wrong! The correct answer is {question['correct_answer']}.\")\n",
        "\n",
        "print(f\"Your final score is: {score}/{len(questions)}\")\n"
      ],
      "metadata": {
        "id": "prmGwpruuZoX",
        "colab": {
          "base_uri": "https://localhost:8080/"
        },
        "outputId": "b7e23f46-6300-470b-ed91-42180d1c16a5"
      },
      "execution_count": null,
      "outputs": [
        {
          "output_type": "stream",
          "name": "stdout",
          "text": [
            "Welcome to the Quiz Game!\n",
            "What is the capital of France?\n",
            "1. London\n",
            "2. Madrid\n",
            "3. Paris\n",
            "4. Berlin\n",
            "Enter the number of your answer (1/2/3/4): 1\n",
            "Wrong! The correct answer is Paris.\n",
            "Which planet is known as the Red Planet?\n",
            "1. Earth\n",
            "2. Mars\n",
            "3. Jupiter\n",
            "4. Venus\n",
            "Enter the number of your answer (1/2/3/4): 1\n",
            "Wrong! The correct answer is Mars.\n",
            "What is the largest mammal in the world?\n",
            "1. Elephant\n",
            "2. Giraffe\n",
            "3. Blue Whale\n",
            "4. Lion\n",
            "Enter the number of your answer (1/2/3/4): 1\n",
            "Wrong! The correct answer is Blue Whale.\n",
            "Your final score is: 0/3\n"
          ]
        }
      ]
    },
    {
      "cell_type": "markdown",
      "source": [
        "27.Develop a program that determines whether a given year is a prime number or not."
      ],
      "metadata": {
        "id": "M6yPvO2JuaGK"
      }
    },
    {
      "cell_type": "code",
      "source": [
        "year = int(input(\"Enter a year: \"))\n",
        "\n",
        "if year <= 1:\n",
        "    is_prime = False\n",
        "elif year <= 3:\n",
        "    is_prime = True\n",
        "elif year % 2 == 0 or year % 3 == 0:\n",
        "    is_prime = False\n",
        "else:\n",
        "    is_prime = True\n",
        "    i = 5\n",
        "    while i * i <= year:\n",
        "        if year % i == 0 or year % (i + 2) == 0:\n",
        "            is_prime = False\n",
        "            break\n",
        "        i += 6\n",
        "\n",
        "if is_prime:\n",
        "    print(f\"{year} is a prime year.\")\n",
        "else:\n",
        "    print(f\"{year} is not a prime year.\")\n"
      ],
      "metadata": {
        "id": "q31P4hKAueze",
        "colab": {
          "base_uri": "https://localhost:8080/"
        },
        "outputId": "ba5a20a6-9223-402b-d5b3-30da3a0223fe"
      },
      "execution_count": 1,
      "outputs": [
        {
          "output_type": "stream",
          "name": "stdout",
          "text": [
            "Enter a year: 2003\n",
            "2003 is a prime year.\n"
          ]
        }
      ]
    },
    {
      "cell_type": "markdown",
      "source": [
        "28.Create a program that sorts three numbers in ascending order using conditional statements."
      ],
      "metadata": {
        "id": "xOhLMydAufPL"
      }
    },
    {
      "cell_type": "code",
      "source": [
        "# Input three numbers from the user\n",
        "num1 = int(input(\"Enter the first number: \"))\n",
        "num2 = int(input(\"Enter the second number: \"))\n",
        "num3 = int(input(\"Enter the third number: \"))\n",
        "\n",
        "# Compare the three numbers using conditional statements\n",
        "if num1 <= num2 and num1 <= num3:\n",
        "    smallest = num1\n",
        "    if num2 <= num3:\n",
        "        middle = num2\n",
        "        largest = num3\n",
        "    else:\n",
        "        middle = num3\n",
        "        largest = num2\n",
        "elif num2 <= num1 and num2 <= num3:\n",
        "    smallest = num2\n",
        "    if num1 <= num3:\n",
        "        middle = num1\n",
        "        largest = num3\n",
        "    else:\n",
        "        middle = num3\n",
        "        largest = num1\n",
        "else:\n",
        "    smallest = num3\n",
        "    if num1 <= num2:\n",
        "        middle = num1\n",
        "        largest = num2\n",
        "    else:\n",
        "        middle = num2\n",
        "        largest = num1\n",
        "\n",
        "# Display the numbers in ascending order\n",
        "print(f\"The numbers in ascending order are: {smallest}, {middle}, {largest}\")\n"
      ],
      "metadata": {
        "colab": {
          "base_uri": "https://localhost:8080/"
        },
        "id": "6l6zbSG2GSad",
        "outputId": "19177c61-97f5-4bc0-b3f0-73f22eb79fe1"
      },
      "execution_count": 2,
      "outputs": [
        {
          "output_type": "stream",
          "name": "stdout",
          "text": [
            "Enter the first number: 12\n",
            "Enter the second number: 1\n",
            "Enter the third number: 23\n",
            "The numbers in ascending order are: 1, 12, 23\n"
          ]
        }
      ]
    },
    {
      "cell_type": "markdown",
      "source": [
        "29.Build a program that determines the roots of a quartic equation using numerical methods"
      ],
      "metadata": {
        "id": "qXH_m9IMukMs"
      }
    },
    {
      "cell_type": "code",
      "source": [
        "import sympy as sp\n",
        "\n",
        "x = sp.symbols('x')\n",
        "equation = x**4 - 6*x**3 + 11*x**2 - 6*x\n",
        "\n",
        "derivative = sp.diff(equation, x)\n",
        "second_derivative = sp.diff(derivative, x)\n",
        "\n",
        "initial_guess = 1\n",
        "tolerance = 10**-6\n",
        "max_iterations = 100\n",
        "\n",
        "x_i = initial_guess\n",
        "for i in range(max_iterations):\n",
        "    f_i = equation.subs(x, x_i)\n",
        "    f_prime_i = derivative.subs(x, x_i)\n",
        "\n",
        "    if abs(f_prime_i) < tolerance:\n",
        "        print(\"Newton-Raphson method failed to converge.\")\n",
        "        break\n",
        "\n",
        "    x_i -= f_i / f_prime_i\n",
        "\n",
        "    if abs(f_i) < tolerance:\n",
        "        print(f\"Root found at x = {x_i} (after {i+1} iterations)\")\n",
        "        break\n",
        "else:\n",
        "    print(\"Newton-Raphson method did not converge within the maximum number of iterations.\")\n",
        "\n",
        "cubic_equation = equation - x_i\n",
        "roots = sp.solve(cubic_equation, x)\n",
        "\n",
        "print(\"Additional roots (if any):\")\n",
        "for root in roots:\n",
        "    print(f\"x = {root}\")\n"
      ],
      "metadata": {
        "id": "vg4LmL2Guoxw",
        "colab": {
          "base_uri": "https://localhost:8080/"
        },
        "outputId": "d8f69ec3-09d0-474d-f291-e418041a588d"
      },
      "execution_count": 9,
      "outputs": [
        {
          "output_type": "stream",
          "name": "stdout",
          "text": [
            "Root found at x = 1 (after 1 iterations)\n",
            "Additional roots (if any):\n",
            "x = 3/2 - sqrt(5 - 4*sqrt(2))/2\n",
            "x = 3/2 + sqrt(5 - 4*sqrt(2))/2\n",
            "x = 3/2 - sqrt(5 + 4*sqrt(2))/2\n",
            "x = 3/2 + sqrt(5 + 4*sqrt(2))/2\n"
          ]
        }
      ]
    },
    {
      "cell_type": "markdown",
      "source": [
        "30.Write a program that calculates the BMI (Body Mass Index) and provides health recommendations based\n",
        "on the user's input"
      ],
      "metadata": {
        "id": "ziBt6RznupYX"
      }
    },
    {
      "cell_type": "code",
      "source": [
        "# Input the user's weight in kilograms and height in meters\n",
        "weight_kg = float(input(\"Enter your weight in kilograms: \"))\n",
        "height_m = float(input(\"Enter your height in meters: \"))\n",
        "\n",
        "# Calculate BMI\n",
        "bmi = weight_kg / (height_m ** 2)\n",
        "\n",
        "# Print the calculated BMI\n",
        "print(f\"Your BMI is: {bmi:.2f}\")\n",
        "\n",
        "# Provide health recommendations based on BMI\n",
        "if bmi < 18.5:\n",
        "    print(\"You are underweight. Consider gaining some weight for better health.\")\n",
        "elif 18.5 <= bmi < 24.9:\n",
        "    print(\"Your weight is within the healthy range. Keep up the good work!\")\n",
        "elif 25 <= bmi < 29.9:\n",
        "    print(\"You are overweight. Consider losing some weight for better health.\")\n",
        "else:\n",
        "    print(\"You are obese. It's important to focus on losing weight for better health.\")\n"
      ],
      "metadata": {
        "id": "WTpJFb78usiE",
        "colab": {
          "base_uri": "https://localhost:8080/"
        },
        "outputId": "e77c9304-770f-4dae-cd7a-21fce109d6f4"
      },
      "execution_count": 10,
      "outputs": [
        {
          "output_type": "stream",
          "name": "stdout",
          "text": [
            "Enter your weight in kilograms: 59\n",
            "Enter your height in meters: 1.77\n",
            "Your BMI is: 18.83\n",
            "Your weight is within the healthy range. Keep up the good work!\n"
          ]
        }
      ]
    },
    {
      "cell_type": "markdown",
      "source": [
        "**Challenge Level:**"
      ],
      "metadata": {
        "id": "iFMnbS5eutoI"
      }
    },
    {
      "cell_type": "markdown",
      "source": [
        "31.Create a program that validates a password based on complexity rules (length, characters, etc.)"
      ],
      "metadata": {
        "id": "d9QEzyORuyJL"
      }
    },
    {
      "cell_type": "code",
      "source": [
        "import re\n",
        "\n",
        "password = input(\"Enter a password: \")\n",
        "\n",
        "if len(password) < 8:\n",
        "    print(\"Invalid password. Password must be at least 8 characters long.\")\n",
        "else:\n",
        "    if not re.search(r'[A-Z]', password):\n",
        "        print(\"Invalid password. Password must contain at least one uppercase letter (A-Z).\")\n",
        "    elif not re.search(r'[a-z]', password):\n",
        "        print(\"Invalid password. Password must contain at least one lowercase letter (a-z).\")\n",
        "    elif not re.search(r'[0-9]', password):\n",
        "        print(\"Invalid password. Password must contain at least one digit (0-9).\")\n",
        "    elif not re.search(r'[!@#$%^&*]', password):\n",
        "        print(\"Invalid password. Password must contain at least one special character (!@#$%^&*).\")\n",
        "    else:\n",
        "        print(\"Valid password.\")\n"
      ],
      "metadata": {
        "id": "Bg5MlDycvPe-",
        "colab": {
          "base_uri": "https://localhost:8080/"
        },
        "outputId": "eaa4612c-dfde-4f8b-f33d-811d113b84ff"
      },
      "execution_count": 12,
      "outputs": [
        {
          "output_type": "stream",
          "name": "stdout",
          "text": [
            "Enter a password: Rupesh@12345!@#$%\n",
            "Valid password.\n"
          ]
        }
      ]
    },
    {
      "cell_type": "markdown",
      "source": [
        "32.Develop a program that performs matrix addition and subtraction based on user input"
      ],
      "metadata": {
        "id": "270-1hIdvP5P"
      }
    },
    {
      "cell_type": "code",
      "source": [
        "# Input the dimensions of the matrices\n",
        "rows = int(input(\"Enter the number of rows: \"))\n",
        "cols = int(input(\"Enter the number of columns: \"))\n",
        "\n",
        "# Input the elements of the first matrix\n",
        "print(\"Enter the elements of the first matrix:\")\n",
        "matrix1 = []\n",
        "for i in range(rows):\n",
        "    row = []\n",
        "    for j in range(cols):\n",
        "        element = float(input(f\"Enter element at row {i + 1}, column {j + 1}: \"))\n",
        "        row.append(element)\n",
        "    matrix1.append(row)\n",
        "\n",
        "# Input the elements of the second matrix\n",
        "print(\"Enter the elements of the second matrix:\")\n",
        "matrix2 = []\n",
        "for i in range(rows):\n",
        "    row = []\n",
        "    for j in range(cols):\n",
        "        element = float(input(f\"Enter element at row {i + 1}, column {j + 1}: \"))\n",
        "        row.append(element)\n",
        "    matrix2.append(row)\n",
        "\n",
        "# Perform matrix addition\n",
        "result_addition = []\n",
        "for i in range(rows):\n",
        "    row = []\n",
        "    for j in range(cols):\n",
        "        row.append(matrix1[i][j] + matrix2[i][j])\n",
        "    result_addition.append(row)\n",
        "\n",
        "# Perform matrix subtraction\n",
        "result_subtraction = []\n",
        "for i in range(rows):\n",
        "    row = []\n",
        "    for j in range(cols):\n",
        "        row.append(matrix1[i][j] - matrix2[i][j])\n",
        "    result_subtraction.append(row)\n",
        "\n",
        "# Print the results\n",
        "print(\"Matrix Addition Result:\")\n",
        "for row in result_addition:\n",
        "    print(' '.join(map(str, row)))\n",
        "\n",
        "print(\"Matrix Subtraction Result:\")\n",
        "for row in result_subtraction:\n",
        "    print(' '.join(map(str, row)))\n",
        "\n"
      ],
      "metadata": {
        "id": "VoIk04AYvUHV",
        "colab": {
          "base_uri": "https://localhost:8080/"
        },
        "outputId": "d131050f-ad16-48da-eff3-dd489ae59173"
      },
      "execution_count": 13,
      "outputs": [
        {
          "output_type": "stream",
          "name": "stdout",
          "text": [
            "Enter the number of rows: 4\n",
            "Enter the number of columns: 3\n",
            "Enter the elements of the first matrix:\n",
            "Enter element at row 1, column 1: 1\n",
            "Enter element at row 1, column 2: 2\n",
            "Enter element at row 1, column 3: 3\n",
            "Enter element at row 2, column 1: 4\n",
            "Enter element at row 2, column 2: 5\n",
            "Enter element at row 2, column 3: 6\n",
            "Enter element at row 3, column 1: 7\n",
            "Enter element at row 3, column 2: 8\n",
            "Enter element at row 3, column 3: 9\n",
            "Enter element at row 4, column 1: 10\n",
            "Enter element at row 4, column 2: 11\n",
            "Enter element at row 4, column 3: 12\n",
            "Enter the elements of the second matrix:\n",
            "Enter element at row 1, column 1: 1\n",
            "Enter element at row 1, column 2: 12\n",
            "Enter element at row 1, column 3: 23\n",
            "Enter element at row 2, column 1: 2\n",
            "Enter element at row 2, column 2: 12\n",
            "Enter element at row 2, column 3: 34\n",
            "Enter element at row 3, column 1: 34\n",
            "Enter element at row 3, column 2: 23\n",
            "Enter element at row 3, column 3: 4\n",
            "Enter element at row 4, column 1: 34\n",
            "Enter element at row 4, column 2: 45\n",
            "Enter element at row 4, column 3: 23\n",
            "Matrix Addition Result:\n",
            "2.0 14.0 26.0\n",
            "6.0 17.0 40.0\n",
            "41.0 31.0 13.0\n",
            "44.0 56.0 35.0\n",
            "Matrix Subtraction Result:\n",
            "0.0 -10.0 -20.0\n",
            "2.0 -7.0 -28.0\n",
            "-27.0 -15.0 5.0\n",
            "-24.0 -34.0 -11.0\n"
          ]
        }
      ]
    },
    {
      "cell_type": "markdown",
      "source": [
        "33.Write a program that calculates the greatest common divisor (GCD) of two numbers using the Euclidean\n",
        "algorithm"
      ],
      "metadata": {
        "id": "IERWJH82vUoz"
      }
    },
    {
      "cell_type": "code",
      "source": [
        "# Input two numbers from the user\n",
        "num1 = int(input(\"Enter the first number: \"))\n",
        "num2 = int(input(\"Enter the second number: \"))\n",
        "\n",
        "# Implement the Euclidean algorithm to calculate the GCD\n",
        "while num2:\n",
        "    num1, num2 = num2, num1 % num2\n",
        "\n",
        "# Display the GCD\n",
        "print(f\"The GCD of the two numbers is: {num1}\")\n"
      ],
      "metadata": {
        "id": "yOfcjwmHvZxJ",
        "colab": {
          "base_uri": "https://localhost:8080/"
        },
        "outputId": "3c6f9beb-8c7e-4756-e60d-4eed06f761ab"
      },
      "execution_count": 14,
      "outputs": [
        {
          "output_type": "stream",
          "name": "stdout",
          "text": [
            "Enter the first number: 23\n",
            "Enter the second number: 34\n",
            "The GCD of the two numbers is: 1\n"
          ]
        }
      ]
    },
    {
      "cell_type": "markdown",
      "source": [
        "34.Build a program that performs matrix multiplication using nested loops and conditional statements."
      ],
      "metadata": {
        "id": "bDWzMXXxvakM"
      }
    },
    {
      "cell_type": "code",
      "source": [
        "# Input the dimensions of the matrices\n",
        "rows1 = int(input(\"Enter the number of rows for the first matrix: \"))\n",
        "cols1 = int(input(\"Enter the number of columns for the first matrix: \"))\n",
        "rows2 = int(input(\"Enter the number of rows for the second matrix: \"))\n",
        "cols2 = int(input(\"Enter the number of columns for the second matrix: \"))\n",
        "\n",
        "# Initialize matrices with zeros\n",
        "matrix1 = [[0 for _ in range(cols1)] for _ in range(rows1)]\n",
        "matrix2 = [[0 for _ in range(cols2)] for _ in range(rows2)]\n",
        "result = [[0 for _ in range(cols2)] for _ in range(rows1)]\n",
        "\n",
        "# Input elements for the first matrix\n",
        "print(\"Enter elements for the first matrix:\")\n",
        "for i in range(rows1):\n",
        "    for j in range(cols1):\n",
        "        matrix1[i][j] = int(input(f\"Enter element at row {i + 1}, column {j + 1}: \"))\n",
        "\n",
        "# Input elements for the second matrix\n",
        "print(\"Enter elements for the second matrix:\")\n",
        "for i in range(rows2):\n",
        "    for j in range(cols2):\n",
        "        matrix2[i][j] = int(input(f\"Enter element at row {i + 1}, column {j + 1}: \"))\n",
        "\n",
        "# Perform matrix multiplication\n",
        "if cols1 == rows2:\n",
        "    for i in range(rows1):\n",
        "        for j in range(cols2):\n",
        "            for k in range(cols1):\n",
        "                result[i][j] += matrix1[i][k] * matrix2[k][j]\n",
        "else:\n",
        "    print(\"Matrix multiplication is not possible due to incompatible dimensions.\")\n",
        "    exit()\n",
        "\n",
        "# Print the resulting matrix\n",
        "print(\"Result of Matrix Multiplication:\")\n",
        "for row in result:\n",
        "    print(row)\n"
      ],
      "metadata": {
        "id": "3FC8Ox8tvl6T",
        "colab": {
          "base_uri": "https://localhost:8080/"
        },
        "outputId": "4298a792-90f7-42c9-c72e-cb73922498d9"
      },
      "execution_count": 2,
      "outputs": [
        {
          "output_type": "stream",
          "name": "stdout",
          "text": [
            "Enter the number of rows for the first matrix: 2\n",
            "Enter the number of columns for the first matrix: 3\n",
            "Enter the number of rows for the second matrix: 3\n",
            "Enter the number of columns for the second matrix: 2\n",
            "Enter elements for the first matrix:\n",
            "Enter element at row 1, column 1: 1\n",
            "Enter element at row 1, column 2: 2\n",
            "Enter element at row 1, column 3: 3\n",
            "Enter element at row 2, column 1: 4\n",
            "Enter element at row 2, column 2: 5\n",
            "Enter element at row 2, column 3: 6\n",
            "Enter elements for the second matrix:\n",
            "Enter element at row 1, column 1: 7\n",
            "Enter element at row 1, column 2: 8\n",
            "Enter element at row 2, column 1: 9\n",
            "Enter element at row 2, column 2: 10\n",
            "Enter element at row 3, column 1: 11\n",
            "Enter element at row 3, column 2: 12\n",
            "Result of Matrix Multiplication:\n",
            "[58, 64]\n",
            "[139, 154]\n"
          ]
        }
      ]
    },
    {
      "cell_type": "markdown",
      "source": [
        "35.Create a program that simulates a basic text-based tic-tac-toe game against the computer."
      ],
      "metadata": {
        "id": "kbizT-8YvmRL"
      }
    },
    {
      "cell_type": "code",
      "source": [
        "import random\n",
        "\n",
        "board = [[\" \" for _ in range(3)] for _ in range(3)]\n",
        "\n",
        "def print_board():\n",
        "    for row in board:\n",
        "        print(\" | \".join(row))\n",
        "        print(\"-\" * 9)\n",
        "\n",
        "def check_win(player):\n",
        "    for row in board:\n",
        "        if all(cell == player for cell in row):\n",
        "            return True\n",
        "\n",
        "    for col in range(3):\n",
        "        if all(board[i][col] == player for i in range(3)):\n",
        "            return True\n",
        "\n",
        "    if all(board[i][i] == player for i in range(3)) or all(board[i][2 - i] == player for i in range(3)):\n",
        "        return True\n",
        "\n",
        "    return False\n",
        "\n",
        "def check_draw():\n",
        "    return all(cell != \" \" for row in board for cell in row)\n",
        "\n",
        "def computer_move():\n",
        "    empty_cells = [(i, j) for i in range(3) for j in range(3) if board[i][j] == \" \"]\n",
        "    return random.choice(empty_cells)\n",
        "\n",
        "player = \"X\"\n",
        "computer = \"O\"\n",
        "\n",
        "print(\"Welcome to Tic-Tac-Toe!\")\n",
        "\n",
        "while True:\n",
        "    print_board()\n",
        "\n",
        "    if player == \"X\":\n",
        "        row, col = map(int, input(\"Enter your move (row and column, e.g., 0 0): \").split())\n",
        "    else:\n",
        "        print(\"Computer's turn:\")\n",
        "        row, col = computer_move()\n",
        "\n",
        "    if board[row][col] == \" \":\n",
        "        board[row][col] = player\n",
        "\n",
        "        if check_win(player):\n",
        "            print_board()\n",
        "            print(f\"{player} wins! Congratulations!\")\n",
        "            break\n",
        "        elif check_draw():\n",
        "            print_board()\n",
        "            print(\"It's a draw!\")\n",
        "            break\n",
        "\n",
        "        player, computer = computer, player\n",
        "    else:\n",
        "        print(\"Invalid move. Try again.\")\n"
      ],
      "metadata": {
        "id": "e84uXawjvrpD",
        "colab": {
          "base_uri": "https://localhost:8080/"
        },
        "outputId": "e2805897-a951-4af5-c2ed-802344be0986"
      },
      "execution_count": 8,
      "outputs": [
        {
          "output_type": "stream",
          "name": "stdout",
          "text": [
            "Welcome to Tic-Tac-Toe!\n",
            "  |   |  \n",
            "---------\n",
            "  |   |  \n",
            "---------\n",
            "  |   |  \n",
            "---------\n",
            "Enter your move (row and column, e.g., 0 0): 1 1\n",
            "  |   |  \n",
            "---------\n",
            "  | X |  \n",
            "---------\n",
            "  |   |  \n",
            "---------\n",
            "Computer's turn:\n",
            "  | O |  \n",
            "---------\n",
            "  | X |  \n",
            "---------\n",
            "  |   |  \n",
            "---------\n",
            "Enter your move (row and column, e.g., 0 0): 0 0\n",
            "X | O |  \n",
            "---------\n",
            "  | X |  \n",
            "---------\n",
            "  |   |  \n",
            "---------\n",
            "Computer's turn:\n",
            "X | O |  \n",
            "---------\n",
            "  | X |  \n",
            "---------\n",
            "  | O |  \n",
            "---------\n",
            "Enter your move (row and column, e.g., 0 0): 2 2\n",
            "X | O |  \n",
            "---------\n",
            "  | X |  \n",
            "---------\n",
            "  | O | X\n",
            "---------\n",
            "X wins! Congratulations!\n"
          ]
        }
      ]
    },
    {
      "cell_type": "markdown",
      "source": [
        "36.Write a program that generates Fibonacci numbers up to a specified term using iterative methods"
      ],
      "metadata": {
        "id": "e_Lz1XSNvsLL"
      }
    },
    {
      "cell_type": "code",
      "source": [
        "# Input the number of terms\n",
        "n = int(input(\"Enter the number of Fibonacci terms to generate: \"))\n",
        "\n",
        "if n <= 0:\n",
        "    print(\"Please enter a positive integer.\")\n",
        "else:\n",
        "    fibonacci_sequence = [0, 1]\n",
        "\n",
        "    while len(fibonacci_sequence) < n:\n",
        "        next_number = fibonacci_sequence[-1] + fibonacci_sequence[-2]\n",
        "        fibonacci_sequence.append(next_number)\n",
        "\n",
        "    print(\"Fibonacci Sequence:\")\n",
        "    print(fibonacci_sequence)\n"
      ],
      "metadata": {
        "id": "t-orMzPlvwLW",
        "colab": {
          "base_uri": "https://localhost:8080/"
        },
        "outputId": "7c6ce2d7-3a63-40bd-d1c6-10478d97f62d"
      },
      "execution_count": 9,
      "outputs": [
        {
          "output_type": "stream",
          "name": "stdout",
          "text": [
            "Enter the number of Fibonacci terms to generate: 13\n",
            "Fibonacci Sequence:\n",
            "[0, 1, 1, 2, 3, 5, 8, 13, 21, 34, 55, 89, 144]\n"
          ]
        }
      ]
    },
    {
      "cell_type": "markdown",
      "source": [
        "37.Develop a program that calculates the nth term of the Fibonacci sequence using memoization"
      ],
      "metadata": {
        "id": "ZA2KdnBQvwnA"
      }
    },
    {
      "cell_type": "code",
      "source": [
        "# Input the term of the Fibonacci sequence to calculate\n",
        "n = int(input(\"Enter the term of the Fibonacci sequence to calculate: \"))\n",
        "\n",
        "if n < 0:\n",
        "    print(\"Please enter a non-negative integer.\")\n",
        "else:\n",
        "    memo = {}\n",
        "    memo[0] = 0\n",
        "    memo[1] = 1\n",
        "\n",
        "    for i in range(2, n + 1):\n",
        "        memo[i] = memo[i - 1] + memo[i - 2]\n",
        "\n",
        "    fib_n = memo[n]\n",
        "    print(f\"The {n}-th term of the Fibonacci sequence is: {fib_n}\")\n"
      ],
      "metadata": {
        "id": "u9a-OowQv50N",
        "colab": {
          "base_uri": "https://localhost:8080/"
        },
        "outputId": "2830b6c5-616f-406d-99f0-2c71ac38df55"
      },
      "execution_count": 11,
      "outputs": [
        {
          "output_type": "stream",
          "name": "stdout",
          "text": [
            "Enter the term of the Fibonacci sequence to calculate: 12\n",
            "The 12-th term of the Fibonacci sequence is: 144\n"
          ]
        }
      ]
    },
    {
      "cell_type": "markdown",
      "source": [
        "38.Create a program that generates a calendar for a given month and year using conditional statements"
      ],
      "metadata": {
        "id": "FETcQDjpv6Ha"
      }
    },
    {
      "cell_type": "code",
      "source": [
        "import calendar\n",
        "\n",
        "year = int(input(\"Enter the year: \"))\n",
        "month = int(input(\"Enter the month (1-12): \"))\n",
        "\n",
        "if month < 1 or month > 12:\n",
        "    print(\"Invalid month. Please enter a month between 1 and 12.\")\n",
        "else:\n",
        "    cal = calendar.month(year, month)\n",
        "    print(f\"Calendar for {calendar.month_name[month]} {year}:\\n\")\n",
        "    print(cal)\n"
      ],
      "metadata": {
        "id": "yNlDJf2Kv9bi",
        "colab": {
          "base_uri": "https://localhost:8080/"
        },
        "outputId": "1739ab73-905a-41f0-c879-7e692110cf48"
      },
      "execution_count": 12,
      "outputs": [
        {
          "output_type": "stream",
          "name": "stdout",
          "text": [
            "Enter the year: 2023\n",
            "Enter the month (1-12): 9\n",
            "Calendar for September 2023:\n",
            "\n",
            "   September 2023\n",
            "Mo Tu We Th Fr Sa Su\n",
            "             1  2  3\n",
            " 4  5  6  7  8  9 10\n",
            "11 12 13 14 15 16 17\n",
            "18 19 20 21 22 23 24\n",
            "25 26 27 28 29 30\n",
            "\n"
          ]
        }
      ]
    },
    {
      "cell_type": "markdown",
      "source": [
        "39.Build a program that simulates a basic text-based blackjack game against the computer"
      ],
      "metadata": {
        "id": "WkiHAZ0-v9xZ"
      }
    },
    {
      "cell_type": "code",
      "source": [
        "import random\n",
        "\n",
        "suits = ['Hearts', 'Diamonds', 'Clubs', 'Spades']\n",
        "ranks = ['Two', 'Three', 'Four', 'Five', 'Six', 'Seven', 'Eight', 'Nine', 'Ten', 'Jack', 'Queen', 'King', 'Ace']\n",
        "values = {'Two': 2, 'Three': 3, 'Four': 4, 'Five': 5, 'Six': 6, 'Seven': 7, 'Eight': 8, 'Nine': 9, 'Ten': 10,\n",
        "          'Jack': 10, 'Queen': 10, 'King': 10, 'Ace': 11}\n",
        "\n",
        "def create_deck():\n",
        "    deck = [{'Rank': rank, 'Suit': suit, 'Value': values[rank]} for rank in ranks for suit in suits]\n",
        "    random.shuffle(deck)\n",
        "    return deck\n",
        "\n",
        "def calculate_hand_value(hand):\n",
        "    value = sum(card['Value'] for card in hand)\n",
        "    num_aces = sum(1 for card in hand if card['Rank'] == 'Ace')\n",
        "\n",
        "    while value > 21 and num_aces:\n",
        "        value -= 10\n",
        "        num_aces -= 1\n",
        "\n",
        "    return value\n",
        "\n",
        "def display_hand(hand):\n",
        "    for card in hand:\n",
        "        print(f\"{card['Rank']} of {card['Suit']}\")\n",
        "\n",
        "deck = create_deck()\n",
        "player_hand = [deck.pop(), deck.pop()]\n",
        "computer_hand = [deck.pop(), deck.pop()]\n",
        "\n",
        "while True:\n",
        "    player_value = calculate_hand_value(player_hand)\n",
        "    computer_value = calculate_hand_value(computer_hand)\n",
        "\n",
        "    print(\"\\nPlayer's Hand:\")\n",
        "    display_hand(player_hand)\n",
        "    print(f\"Total Value: {player_value}\\n\")\n",
        "\n",
        "    if player_value == 21:\n",
        "        print(\"Blackjack! You win!\")\n",
        "        break\n",
        "    elif player_value > 21:\n",
        "        print(\"Bust! You lose!\")\n",
        "        break\n",
        "\n",
        "    action = input(\"Do you want to 'hit' or 'stand'? \").lower()\n",
        "\n",
        "    if action == 'hit':\n",
        "        player_hand.append(deck.pop())\n",
        "    elif action == 'stand':\n",
        "        while computer_value < 17:\n",
        "            computer_hand.append(deck.pop())\n",
        "            computer_value = calculate_hand_value(computer_hand)\n",
        "\n",
        "        print(\"\\nComputer's Hand:\")\n",
        "        display_hand(computer_hand)\n",
        "        print(f\"Total Value: {computer_value}\\n\")\n",
        "\n",
        "        if computer_value > 21:\n",
        "            print(\"Computer busts! You win!\")\n",
        "        elif computer_value >= player_value:\n",
        "            print(\"Computer wins!\")\n",
        "        else:\n",
        "            print(\"You win!\")\n",
        "\n",
        "        break\n",
        "    else:\n",
        "        print(\"Invalid action. Please enter 'hit' or 'stand'.\")\n"
      ],
      "metadata": {
        "id": "x-kUib5lwBgS",
        "colab": {
          "base_uri": "https://localhost:8080/"
        },
        "outputId": "31cb0832-c439-4e62-de8e-c305082ae597"
      },
      "execution_count": 13,
      "outputs": [
        {
          "output_type": "stream",
          "name": "stdout",
          "text": [
            "\n",
            "Player's Hand:\n",
            "Eight of Spades\n",
            "Three of Hearts\n",
            "Total Value: 11\n",
            "\n",
            "Do you want to 'hit' or 'stand'? hit\n",
            "\n",
            "Player's Hand:\n",
            "Eight of Spades\n",
            "Three of Hearts\n",
            "Jack of Clubs\n",
            "Total Value: 21\n",
            "\n",
            "Blackjack! You win!\n"
          ]
        }
      ]
    },
    {
      "cell_type": "markdown",
      "source": [
        "40.Write a program that generates the prime factors of a given number using trial division."
      ],
      "metadata": {
        "id": "rrrZ44dHwB3p"
      }
    },
    {
      "cell_type": "code",
      "source": [
        "# Input a number from the user\n",
        "number = int(input(\"Enter a number to find its prime factors: \"))\n",
        "\n",
        "if number < 2:\n",
        "    print(\"Prime factors are only defined for numbers greater than or equal to 2.\")\n",
        "else:\n",
        "    factors = []\n",
        "    divisor = 2\n",
        "\n",
        "    while number > 1:\n",
        "        while number % divisor == 0:\n",
        "            factors.append(divisor)\n",
        "            number //= divisor\n",
        "        divisor += 1\n",
        "\n",
        "    if len(factors) == 0:\n",
        "        print(f\"{number} is a prime number, and it has no prime factors.\")\n",
        "    else:\n",
        "        print(f\"Prime factors of {number} are: {factors}\")\n"
      ],
      "metadata": {
        "id": "vs4NXmEAwEw_",
        "colab": {
          "base_uri": "https://localhost:8080/"
        },
        "outputId": "1db090f1-56d7-43f9-a1f8-c66c7ebecd19"
      },
      "execution_count": 16,
      "outputs": [
        {
          "output_type": "stream",
          "name": "stdout",
          "text": [
            "Enter a number to find its prime factors: 60\n",
            "Prime factors of 1 are: [2, 2, 3, 5]\n"
          ]
        }
      ]
    }
  ]
}